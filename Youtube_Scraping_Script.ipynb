{
 "cells": [
  {
   "cell_type": "code",
   "execution_count": 1,
   "metadata": {},
   "outputs": [],
   "source": [
    "import time\n",
    "from selenium import webdriver \n",
    "import pandas as pd\n",
    "from selenium.webdriver.common.by import By \n",
    "from selenium.webdriver import Chrome\n",
    "from selenium.webdriver.common.by import By\n",
    "from selenium.webdriver.common.keys import Keys\n",
    "from selenium.webdriver.support.ui import WebDriverWait\n",
    "from selenium.webdriver.support import expected_conditions as EC"
   ]
  },
  {
   "cell_type": "code",
   "execution_count": 3,
   "metadata": {},
   "outputs": [],
   "source": [
    "#gathers list of links based on entering an input into the Youtube search bar\n",
    "#This uses Google Chrome\n",
    "def SearchVideoUrls(search):\n",
    "    #maximizing number of links with one search\n",
    "    options = webdriver.ChromeOptions() #deprecation warning - fix not known\n",
    "    options.add_argument(\"start-maximized\")\n",
    "    options.add_argument(\"disable-infobars\")\n",
    "    options.add_argument(\"--disable-extensions\")\n",
    "    \n",
    "    driver = webdriver.Chrome(chrome_options=options, executable_path= CHROME_DRIVER_FILEPATH)\n",
    "    driver.get(\"https://www.youtube.com/results?search_query=\")\n",
    "    WebDriverWait(driver, 15).until(EC.element_to_be_clickable((By.CSS_SELECTOR, \"input#search\"))).send_keys(search)\n",
    "    driver.find_element_by_css_selector(\"button.style-scope.ytd-searchbox#search-icon-legacy\").click()\n",
    "    links = [my_href.get_attribute(\"href\") for my_href in WebDriverWait(driver, 5).until(EC.visibility_of_all_elements_located((By.CSS_SELECTOR, \"a.yt-simple-endpoint.style-scope.ytd-video-renderer#video-title\")))]\n",
    "    #only need the youtube ID to scrape, so this first part of the url is removed\n",
    "    links = [i.strip('https://www.youtube.com/watch?v=') for i in links]\n",
    "    return links"
   ]
  },
  {
   "cell_type": "code",
   "execution_count": 8,
   "metadata": {},
   "outputs": [
    {
     "name": "stderr",
     "output_type": "stream",
     "text": [
      "C:\\Users\\Baile\\Anaconda3\\lib\\site-packages\\ipykernel_launcher.py:10: DeprecationWarning: use options instead of chrome_options\n",
      "  # Remove the CWD from sys.path while we load stuff.\n"
     ]
    },
    {
     "data": {
      "text/html": [
       "<div>\n",
       "<style scoped>\n",
       "    .dataframe tbody tr th:only-of-type {\n",
       "        vertical-align: middle;\n",
       "    }\n",
       "\n",
       "    .dataframe tbody tr th {\n",
       "        vertical-align: top;\n",
       "    }\n",
       "\n",
       "    .dataframe thead th {\n",
       "        text-align: right;\n",
       "    }\n",
       "</style>\n",
       "<table border=\"1\" class=\"dataframe\">\n",
       "  <thead>\n",
       "    <tr style=\"text-align: right;\">\n",
       "      <th></th>\n",
       "      <th>Video_ID</th>\n",
       "    </tr>\n",
       "  </thead>\n",
       "  <tbody>\n",
       "    <tr>\n",
       "      <td>0</td>\n",
       "      <td>ZlT5fRMG4mU</td>\n",
       "    </tr>\n",
       "    <tr>\n",
       "      <td>1</td>\n",
       "      <td>ZusjGkucX0E</td>\n",
       "    </tr>\n",
       "    <tr>\n",
       "      <td>2</td>\n",
       "      <td>ktlatjB_M</td>\n",
       "    </tr>\n",
       "    <tr>\n",
       "      <td>3</td>\n",
       "      <td>WAly3INavM</td>\n",
       "    </tr>\n",
       "    <tr>\n",
       "      <td>4</td>\n",
       "      <td>QHltQlwTL3E</td>\n",
       "    </tr>\n",
       "  </tbody>\n",
       "</table>\n",
       "</div>"
      ],
      "text/plain": [
       "      Video_ID\n",
       "0  ZlT5fRMG4mU\n",
       "1  ZusjGkucX0E\n",
       "2    ktlatjB_M\n",
       "3   WAly3INavM\n",
       "4  QHltQlwTL3E"
      ]
     },
     "execution_count": 8,
     "metadata": {},
     "output_type": "execute_result"
    }
   ],
   "source": [
    "CHROME_DRIVER_FILEPATH = r'c:\\\\chromedriver_win32\\\\chromedriver.exe'\n",
    "keywords = ['vaccine bbc', 'vaccine cnn', 'covid-19 news', 'coronavirus news', 'vaccine msnbc', 'vaccine gma', 'vaccine misinformation', 'biden vaccine', 'moderna vaccine', 'pfizer vaccine', 'j&j vaccine', 'fauci vaccine']\n",
    "video_ids = ['ZlT5fRMG4mU']\n",
    "for SearchString in keywords:\n",
    "    video_ids.extend(SearchVideoUrls(SearchString))\n",
    "df = pd.DataFrame(video_ids, columns = [\"Video_ID\"])\n",
    "df = df.drop_duplicates()\n",
    "df.head()"
   ]
  },
  {
   "cell_type": "code",
   "execution_count": 9,
   "metadata": {},
   "outputs": [],
   "source": [
    "path= r'C:/Users/Baile/OneDrive/Documents/College/SeniorYear/Spring_2021/CMDA4864/'\n",
    "df.to_csv(path + \"youtube_scraping_urls_5121.csv\")"
   ]
  },
  {
   "cell_type": "code",
   "execution_count": null,
   "metadata": {},
   "outputs": [],
   "source": [
    "path= r'C:/Users/Baile/OneDrive/Documents/College/SeniorYear/Spring_2021/CMDA4864/'\n",
    "\n",
    "df = pd.read_csv(path + \"youtube_scraping_urls_32921.csv\")\n",
    "df = df.drop(['Unnamed: 0'], axis = 1)\n",
    "df = df.rename({'Video_ID':'Video ID'}, axis = 1)\n",
    "df.head()"
   ]
  },
  {
   "cell_type": "markdown",
   "metadata": {},
   "source": [
    "## Data Cleaning"
   ]
  },
  {
   "cell_type": "code",
   "execution_count": 10,
   "metadata": {},
   "outputs": [],
   "source": [
    "import nltk\n",
    "from nltk.corpus import stopwords\n",
    "from nltk.tokenize import word_tokenize\n",
    "import re\n",
    "import pandas as pd \n",
    "import time\n",
    "#nltk.download('stopwords')"
   ]
  },
  {
   "cell_type": "code",
   "execution_count": 40,
   "metadata": {},
   "outputs": [],
   "source": [
    "path= r'C:/Users/Baile/OneDrive/Documents/College/SeniorYear/Spring_2021/CMDA4864/'\n",
    "#Engine Parameter solves a UnicodeDecodeError for UTF-8\n",
    "raw_comments = pd.read_csv(path + 'youtubecomments_5121.csv', engine = 'python')"
   ]
  },
  {
   "cell_type": "code",
   "execution_count": 41,
   "metadata": {},
   "outputs": [
    {
     "name": "stderr",
     "output_type": "stream",
     "text": [
      "<>:3: DeprecationWarning: invalid escape sequence \\s\n",
      "<>:8: DeprecationWarning: invalid escape sequence \\d\n",
      "<>:3: DeprecationWarning: invalid escape sequence \\s\n",
      "<>:8: DeprecationWarning: invalid escape sequence \\d\n",
      "<>:3: DeprecationWarning: invalid escape sequence \\s\n",
      "<>:8: DeprecationWarning: invalid escape sequence \\d\n",
      "<ipython-input-41-8098131f77e8>:3: DeprecationWarning: invalid escape sequence \\s\n",
      "  text = re.sub(\"\\s+\",\" \", text)\n",
      "<ipython-input-41-8098131f77e8>:8: DeprecationWarning: invalid escape sequence \\d\n",
      "  text = re.sub('\\d+', '', text.lower())\n"
     ]
    }
   ],
   "source": [
    "def cleanBody(text):\n",
    "    #removes extra spaces\n",
    "    text = re.sub(\"\\s+\",\" \", text)\n",
    "    #removes punctuation\n",
    "    text = re.sub(\"[^-9A-Za-z ]\", \"\" , text)\n",
    "    text = re.sub(\"-\", \" \" , text)\n",
    "    text = re.sub(\"vaccines\", \"vaccine\" , text)\n",
    "    #changes all to lowercase\n",
    "    text = re.sub('\\d+', '', text.lower())\n",
    "    return text"
   ]
  },
  {
   "cell_type": "code",
   "execution_count": 42,
   "metadata": {},
   "outputs": [],
   "source": [
    "raw_comments['textOriginal'] = raw_comments['textOriginal'].astype(str)\n",
    "comments = raw_comments.groupby('videoId')['textOriginal'].apply(' '.join).reset_index()"
   ]
  },
  {
   "cell_type": "code",
   "execution_count": 48,
   "metadata": {},
   "outputs": [],
   "source": [
    "cleaned_comments = []\n",
    "comments['textOriginal'] = comments['textOriginal'].apply(cleanBody)\n",
    "stop = stopwords.words('english')\n",
    "comments['textCleaned'] = comments['textOriginal'].apply(lambda x: ' '.join([word for word in x.split() if word not in (stop)]))\n",
    "cleaned_comments = comments['textCleaned']"
   ]
  },
  {
   "cell_type": "code",
   "execution_count": 44,
   "metadata": {},
   "outputs": [
    {
     "data": {
      "text/plain": [
       "0     sounds like hilter forced chambers deads yeste...\n",
       "1     anti-maskers anti-vaxxers say im fully vaccina...\n",
       "2     wtf know true agenda probably placebo effectiv...\n",
       "3     authorized u approved parent vaccinate childch...\n",
       "4     shit better redbull lots energy feeling great ...\n",
       "5     commence comments racist maga supporters vacci...\n",
       "6     since election fraud covered media democrats o...\n",
       "7     survival rate parent would allow experimental ...\n",
       "8     good ty ufufd poor kid ty wont able children g...\n",
       "9     teamtrumpcam u jonathanpekar ucsd companyversu...\n",
       "10    talk sore losers asked trump supporter would g...\n",
       "11    genetically modified adreno virus virus partic...\n",
       "12    keeps look data im sure meant say look manipul...\n",
       "13    demi-god took dumb see lied ill cured last yea...\n",
       "14    wish spoke biden idea mumbling time times disl...\n",
       "15    benefits virus experimental gene therapy vacci...\n",
       "16    new cases people got shot adameve malefemale g...\n",
       "17    bots smh weak humans let government things hea...\n",
       "18    one man woman tell god people eyes ears explai...\n",
       "19    many people virus add vaccinated still increas...\n",
       "20    ufdufdufdufdufufuf best vaccine one accessible...\n",
       "21    fake news take risk blood clot die drug compan...\n",
       "22    india dane population africa thats suffering s...\n",
       "23    india mass produce covaxin covishield sputnik ...\n",
       "24    yea vaccine doesnt stop transmission catching ...\n",
       "25    downplaying vaccine deaths obvious theres alot...\n",
       "26    moderna cutest vaccine got first shot yesterda...\n",
       "27    gain-of-function engineered bioweapon wuhan la...\n",
       "28    must read must watch link covid loving admonis...\n",
       "29    im interested either clotting disorder vaccine...\n",
       "30    year old son fiance got covid enough brains kn...\n",
       "31    learned lot didnt know beforehand really usefu...\n",
       "32    xi jingping rules ufeuffufand gates doctoruf m...\n",
       "33    yes yes yes unbelievable next schools say mand...\n",
       "34    im taking shotufufd bbc research know register...\n",
       "35    got shot today may half hour shot felt sleepy ...\n",
       "Name: textCleaned, dtype: object"
      ]
     },
     "execution_count": 44,
     "metadata": {},
     "output_type": "execute_result"
    }
   ],
   "source": [
    "cleaned_comments\n"
   ]
  },
  {
   "cell_type": "markdown",
   "metadata": {},
   "source": [
    "## Data Analysis"
   ]
  },
  {
   "cell_type": "code",
   "execution_count": 45,
   "metadata": {},
   "outputs": [],
   "source": [
    "import gensim\n",
    "import gensim.corpora as corpora\n",
    "from pprint import pprint\n",
    "import pandas as pd\n",
    "import pickle \n",
    "import os\n",
    "import pyLDAvis\n",
    "import pyLDAvis.gensim_models\n",
    "import datetime"
   ]
  },
  {
   "cell_type": "code",
   "execution_count": 49,
   "metadata": {},
   "outputs": [],
   "source": [
    "# Create Corpus\n",
    "cleaned_comments = pd.Series(cleaned_comments)\n",
    "\n",
    "for i in range(0,len(cleaned_comments)):\n",
    "    cleaned_comments[i] = cleaned_comments[i].split()\n",
    "    \n",
    "# Create Dictionary\n",
    "id2word = corpora.Dictionary(cleaned_comments)\n",
    "\n",
    "# Term Document Frequency\n",
    "corpus = [id2word.doc2bow(text) for text in cleaned_comments]"
   ]
  },
  {
   "cell_type": "code",
   "execution_count": 53,
   "metadata": {},
   "outputs": [
    {
     "name": "stdout",
     "output_type": "stream",
     "text": [
      "[(0,\n",
      "  '0.020*\"vaccine\" + 0.013*\"people\" + 0.007*\"get\" + 0.007*\"dont\" + '\n",
      "  '0.006*\"take\" + 0.006*\"covid\" + 0.006*\"like\" + 0.005*\"one\" + 0.005*\"know\" + '\n",
      "  '0.005*\"trump\"'),\n",
      " (1,\n",
      "  '0.016*\"vaccine\" + 0.012*\"people\" + 0.008*\"get\" + 0.007*\"dont\" + '\n",
      "  '0.005*\"covid\" + 0.005*\"like\" + 0.005*\"fauci\" + 0.005*\"know\" + 0.005*\"one\" + '\n",
      "  '0.004*\"virus\"'),\n",
      " (2,\n",
      "  '0.021*\"vaccine\" + 0.011*\"dont\" + 0.010*\"people\" + 0.009*\"get\" + '\n",
      "  '0.007*\"covid\" + 0.006*\"like\" + 0.005*\"virus\" + 0.004*\"one\" + 0.004*\"know\" + '\n",
      "  '0.004*\"us\"'),\n",
      " (3,\n",
      "  '0.014*\"people\" + 0.014*\"vaccine\" + 0.007*\"dont\" + 0.007*\"get\" + '\n",
      "  '0.006*\"covid\" + 0.005*\"like\" + 0.005*\"take\" + 0.005*\"trump\" + 0.004*\"would\" '\n",
      "  '+ 0.004*\"know\"')]\n"
     ]
    }
   ],
   "source": [
    "# number of topics\n",
    "num_topics = 4\n",
    "\n",
    "# Build LDA model\n",
    "lda_model = gensim.models.LdaMulticore(corpus=corpus,\n",
    "                                       id2word=id2word,\n",
    "                                       num_topics=num_topics)\n",
    "\n",
    "# Print the Keywords in the 5 topics\n",
    "pprint(lda_model.print_topics())"
   ]
  },
  {
   "cell_type": "code",
   "execution_count": 54,
   "metadata": {},
   "outputs": [
    {
     "name": "stdout",
     "output_type": "stream",
     "text": [
      "entering preparation\n",
      "beginning pickle pickle\n"
     ]
    }
   ],
   "source": [
    "# Visualize the topics\n",
    "filepath = r'C:/Users/Baile/OneDrive/Documents/College/SeniorYear/Spring_2021/CMDA4864/'\n",
    "now = datetime.datetime.now()\n",
    "date_time = now.strftime(\"%b_%d\")\n",
    "pyLDAvis.enable_notebook()\n",
    "LDAvis_data_filepath = os.path.join(filepath + 'ldavis_prepared_'+str(num_topics))\n",
    "# # this is a bit time consuming - make the if statement True\n",
    "# # if you want to execute visualization prep yourself\n",
    "if 1 == 1:\n",
    "    print('entering preparation: this can take awhile with data')\n",
    "    LDAvis_prepared = pyLDAvis.gensim_models.prepare(lda_model, corpus, id2word)\n",
    "    print('beginning pickle pickle: this can take awhile with alot of data')\n",
    "    with open(LDAvis_data_filepath, 'wb') as f:\n",
    "        pickle.dump(LDAvis_prepared, f)"
   ]
  },
  {
   "cell_type": "code",
   "execution_count": 55,
   "metadata": {},
   "outputs": [
    {
     "data": {
      "text/html": [
       "\n",
       "<link rel=\"stylesheet\" type=\"text/css\" href=\"https://cdn.jsdelivr.net/gh/bmabey/pyLDAvis@3.3.1/pyLDAvis/js/ldavis.v1.0.0.css\">\n",
       "\n",
       "\n",
       "<div id=\"ldavis_el217601844621281926142175\"></div>\n",
       "<script type=\"text/javascript\">\n",
       "\n",
       "var ldavis_el217601844621281926142175_data = {\"mdsDat\": {\"x\": [-0.0022701218538223994, 0.003756377878285092, -0.0025327563287736526, 0.0010465003043109618], \"y\": [-0.0031623033215320245, -0.0014491348167028507, 0.001833114525746988, 0.002778323612487889], \"topics\": [1, 2, 3, 4], \"cluster\": [1, 1, 1, 1], \"Freq\": [40.003321000307565, 33.33581038428721, 17.161487587577415, 9.499381027827813]}, \"tinfo\": {\"Term\": [\"people\", \"vaccine\", \"get\", \"dont\", \"fauci\", \"still\", \"like\", \"covid\", \"know\", \"would\", \"one\", \"take\", \"virus\", \"mask\", \"want\", \"trump\", \"-\", \"us\", \"also\", \"life\", \"see\", \"news\", \"believe\", \"time\", \"well\", \"vaccinated\", \"keep\", \"said\", \"stop\", \"many\", \"cluster\", \"darryl\", \"e-meet\", \"bee\", \"al-mahdi\", \"strategies\", \"viox\", \"thetardysoap\", \"dozens\", \"countless\", \"nose\", \"ueuu\", \"kids\", \"descended\", \"ethical\", \"millennial\", \"korea\", \"oxycodone\", \"steps\", \"allegiance\", \"eric\", \"ger\", \"lwalid\", \"else\", \"take\", \"induce\", \"submitted\", \"repentance\", \"written\", \"waite\", \"gotten\", \"immediately\", \"kjv\", \"stopping\", \"gain\", \"air\", \"compensation\", \"ever\", \"killed\", \"also\", \"adverse\", \"side\", \"lol\", \"years\", \"dr\", \"one\", \"taken\", \"trump\", \"-\", \"got\", \"health\", \"benefits\", \"cancer\", \"world\", \"vaccine\", \"people\", \"see\", \"taking\", \"think\", \"going\", \"know\", \"getting\", \"much\", \"would\", \"youre\", \"im\", \"make\", \"cnn\", \"thats\", \"like\", \"covid\", \"get\", \"fauci\", \"us\", \"dont\", \"virus\", \"even\", \"say\", \"want\", \"still\", \"go\", \"berlin\", \"httpswwwwebmdcomlungnewsget-your-flu-shot-it-might-shield-you-from-severe-covid\", \"murdernya\", \"blogger\", \"coursing\", \"httpswwwcdcgovflupreventvaccine-benefitshtm\", \"weinbach\", \"cases\", \"cheerz\", \"httpswwwmedicalnewstodaycomarticlescan-getting-a-flu-shot-help-protect-against-covid-\", \"bailout\", \"mwb\", \"redbull\", \"httpstimeofarticleblogspotcomflu-vaccine-can-treat-coronavirushtmlm\", \"every-form\", \"half-page\", \"availability\", \"civil\", \"gps\", \"riechman\", \"collection\", \"culpable\", \"liberty\", \"occasional\", \"httpspinitsxftf\", \"ccfr\", \"cshield\", \"momopilotcool\", \"surrender\", \"monitored\", \"treatment\", \"convention\", \"legislations\", \"moving\", \"dont\", \"knowledge\", \"crap\", \"pick\", \"common\", \"paid\", \"tested\", \"use\", \"needs\", \"pandemic\", \"proven\", \"anyone\", \"anywhere\", \"year\", \"quite\", \"virus\", \"said\", \"part\", \"ive\", \"testing\", \"stop\", \"country\", \"vaccine\", \"get\", \"saying\", \"wait\", \"right\", \"vaccinated\", \"science\", \"wear\", \"even\", \"covid\", \"everyone\", \"money\", \"spread\", \"please\", \"go\", \"like\", \"us\", \"care\", \"people\", \"many\", \"good\", \"doesnt\", \"believe\", \"im\", \"one\", \"say\", \"know\", \"want\", \"never\", \"fauci\", \"still\", \"need\", \"thats\", \"getting\", \"think\", \"trump\", \"take\", \"would\", \"biontech\", \"controversy\", \"onenope\", \"clark\", \"hangout\", \"roskell\", \"pro-science\", \"trade\", \"forces\", \"clamor\", \"manifest\", \"swinging\", \"counterpartas\", \"wig\", \"paralysis\", \"pasha\", \"dusk\", \"parable\", \"ufeufe\", \"bfd\", \"trophies\", \"fizzgig\", \"marriages\", \"deny\", \"ccps\", \"neanderthal\", \"contemporary\", \"dividing\", \"france\", \"experimental\", \"severs\", \"hospital-dodgers\", \"believeth\", \"donor\", \"httpswwwcbscomarticlenewsverifydo-hospitals-get-paid-more-for-covid--cases-cf-da-\", \"sin\", \"holy\", \"voters\", \"ud-uc\", \"warp\", \"dealing\", \"circumstances\", \"broad\", \"stupidity\", \"heaven\", \"conversation\", \"truly\", \"become\", \"made\", \"people\", \"new\", \"go\", \"back\", \"either\", \"keep\", \"remember\", \"another\", \"anything\", \"still\", \"group\", \"trump\", \"deaths\", \"good\", \"shit\", \"would\", \"year\", \"want\", \"take\", \"president\", \"vaccinated\", \"bad\", \"believe\", \"let\", \"news\", \"use\", \"im\", \"got\", \"see\", \"many\", \"like\", \"first\", \"covid\", \"get\", \"vaccine\", \"said\", \"dont\", \"fauci\", \"know\", \"us\", \"thats\", \"one\", \"youre\", \"say\", \"right\", \"think\", \"even\", \"virus\", \"-\", \"lahore\", \"siiiiimp\", \"leonaza\", \"httpswwwyoutubecomwatchvpfnqfjoxgv\", \"httpsonenationukorgprojectsindia-appealoxygen-india\", \"bakekuchira\", \"genus\", \"affections\", \"dinuana\", \"sensationalizing\", \"ufffufe\", \"variantsetc\", \"httpszakariyyamasjidcoukindia-covid--appeal\", \"njamau\", \"cheeter\", \"patenting\", \"waive\", \"chain\", \"correctlyand\", \"sikh\", \"israeliteive\", \"christianne\", \"hack\", \"gratefull\", \"subspecies\", \"chalupa\", \"mzungus\", \"carpeting\", \"overso\", \"beeeen\", \"jesus\", \"results\", \"anymore\", \"sells\", \"wearing\", \"irresponsible\", \"love\", \"monkey\", \"fast\", \"mouth\", \"used\", \"fauci\", \"life\", \"mask\", \"establish\", \"mentioned\", \"whole\", \"veritas\", \"media\", \"products\", \"tuckers\", \"keep\", \"seems\", \"well\", \"long\", \"still\", \"immune\", \"stop\", \"also\", \"lie\", \"carlson\", \"wear\", \"uf\", \"people\", \"risk\", \"normal\", \"get\", \"know\", \"-\", \"time\", \"vaccine\", \"government\", \"would\", \"one\", \"dont\", \"virus\", \"like\", \"covid\", \"want\", \"us\", \"going\", \"news\", \"believe\", \"cant\", \"see\", \"never\", \"even\", \"trump\", \"take\", \"make\", \"many\", \"think\", \"need\", \"vaccinated\"], \"Freq\": [9744.0, 14951.0, 6145.0, 6546.0, 2784.0, 2472.0, 4335.0, 4743.0, 3467.0, 2795.0, 3614.0, 3811.0, 3221.0, 1826.0, 2484.0, 3180.0, 2313.0, 2882.0, 1730.0, 1303.0, 1848.0, 1837.0, 1623.0, 1847.0, 1391.0, 2127.0, 1213.0, 1689.0, 1432.0, 1890.0, 17.908393598995104, 5.683770456475192, 6.888814432777789, 9.65522597153028, 5.031480436242214, 12.171600383769967, 2.671782089058803, 5.398520210661868, 11.4297211938305, 19.011149034082376, 64.24943227022871, 4.718998853008852, 280.8164883142163, 5.194131292564903, 7.28621004779871, 2.1374052772163634, 43.42086589358179, 2.601291025550119, 25.697924308247327, 1.5991491535888738, 13.306899069837652, 6.88159821584642, 2.11520934357366, 309.5698342516727, 2023.3329526350924, 5.68062558794687, 7.333579845133464, 15.520320873431663, 51.07282093866253, 1.5477731195945914, 96.09064212164687, 73.10671296444085, 197.8030287365893, 39.537300906184235, 51.652812255705555, 120.74296935319582, 23.28013423873932, 427.2416037078734, 167.6505478863006, 847.4312854839341, 134.27543615476205, 480.12330804816156, 557.1046596675847, 664.5601521816789, 805.872117507883, 1701.4915361925373, 192.4008031801003, 1488.3087258349435, 1095.0300684158046, 893.3466138236287, 483.2293229362634, 115.19659155960416, 166.946996853259, 879.4890541259336, 6378.123112779314, 4131.992427697499, 849.8516111825729, 517.576124465726, 996.1521893235711, 924.7581986074922, 1526.4365106643245, 925.7127883979205, 546.8404329460051, 1239.3966476413952, 716.3451062827488, 1282.8328328653638, 796.2080707595392, 848.964209827394, 899.862496873124, 1762.7230374297012, 1843.7016236515667, 2297.707905758491, 1125.0472178058042, 1149.4550507272797, 2230.476734258502, 1235.5017744364804, 1030.6316054039194, 853.3634001615907, 952.0939787061627, 911.4926314398305, 857.9283219694023, 1.083905081174505, 1.0731134534808255, 1.066968048412949, 1.0583595812477584, 1.0040303520999416, 0.9944620687523295, 2.062593943585951, 461.8831797697023, 0.9587775468178844, 0.9506225751705869, 0.9548615541602794, 0.9785677948242472, 0.9433808690391623, 1.4506766475301884, 11.812173194451296, 0.9334358181015759, 7.293041178675025, 51.76647524255021, 1.433801403458249, 0.9532378382277206, 16.91437101267732, 2.766906126038441, 41.51712707950597, 1.394143103892447, 1.4072466085918247, 0.935706761594327, 1.8175656960558781, 1.4422518732391583, 3.2571634044613647, 3.1688825452651717, 100.98468453362507, 13.932507652615875, 11.205269148227936, 38.49042688231375, 2817.1351437933045, 58.76761900258579, 125.1488742816945, 29.25810381841399, 191.51768099231097, 146.74438319085033, 254.9596552381584, 387.764181149204, 209.17162509233395, 372.7013444336056, 101.03338501632244, 433.0378081440368, 51.84205774918977, 518.6044721055321, 57.75977448367651, 1314.8965724177851, 704.3334119467148, 236.7550216529336, 242.18599362270697, 181.0219506086909, 596.1342943551091, 341.71042856441187, 5419.331827764137, 2325.226338073744, 385.3469177369398, 213.78301849747348, 718.3135635790953, 838.3184063508734, 374.56516476026405, 464.54444277330396, 1002.4721527347684, 1756.3838951875912, 493.229738428828, 299.96511214922026, 309.44245401905147, 328.2045693038075, 864.2406169789749, 1475.6061154165952, 1024.9538926361101, 367.06466321588766, 2727.2402483348615, 675.2831112598858, 657.6768962335289, 565.0557528019541, 592.3770371996711, 963.8094001849612, 1122.7182720930402, 699.8768626709494, 1060.6240934581774, 817.2227677016891, 659.4310620729956, 846.5285413148715, 779.7118767963555, 653.3619432096394, 668.682975856435, 670.9333404886681, 690.5406887151536, 828.9289961206039, 836.6235347067687, 738.8620312324827, 12.642919317320054, 2.083438355450718, 1.3233485808285734, 3.837346327463508, 8.675774919435733, 2.7885605827509305, 1.0091445767039493, 9.148392117301363, 8.954188823523799, 0.7530122559142741, 7.507893273386789, 0.9709142733372482, 1.7400796404209842, 0.7265879689365751, 5.2670964118097325, 0.72843948651843, 1.2282547904102745, 5.24336144904374, 1.4623576635826299, 0.4965898683436315, 0.48870921320022004, 0.7222084496798038, 0.4910394994014617, 10.008420649726274, 2.6840570493381235, 1.6989099075366836, 1.6727887001990411, 4.182039798829292, 4.76705315215938, 210.16085939067742, 11.01310541506418, 2.508833456608996, 28.123089336877875, 5.016694794193857, 2.3802787141147497, 18.227969036361547, 44.76168757566057, 36.984333737451045, 8.66719369256648, 21.114681154547327, 12.960033895024155, 15.36054080634163, 4.424407529502415, 50.86618552671065, 70.46360496572258, 14.495716158589543, 36.528970544786446, 80.60980662885343, 198.95598417877508, 1961.794697012015, 255.65158012225285, 495.76705425019304, 246.4305168166166, 108.05564352948177, 262.6703208223326, 85.16358031260265, 139.77395289321655, 214.84423056839054, 500.51859484378804, 59.96411703737084, 626.3574149654034, 305.3199456902442, 370.72374349052984, 129.56435430334713, 543.698533035019, 253.46864673826533, 481.79459210806505, 711.021813389643, 125.62245152966317, 410.17663542426084, 145.84591365136967, 318.0877874703934, 201.5648504057102, 350.32889703097436, 185.7166425223728, 528.0534630806623, 359.0366893672617, 350.9907451953356, 356.47917071328754, 723.0977544995384, 221.12140835970558, 753.747719329901, 936.0351945211042, 1954.3105519911226, 315.7249800731501, 945.927131193343, 455.4684394383751, 532.65042542854, 447.29192122355147, 338.0342404615282, 451.9307491692605, 289.94623033311774, 320.67570514762355, 305.5894416943427, 327.1773789381447, 346.50936213898774, 367.687432344879, 328.9106902921499, 0.49472028140450774, 0.48880531144751127, 0.6504080939365923, 0.47700207199670513, 0.47281919241881326, 0.46005139873538364, 0.3084643550455489, 0.3045636353369207, 0.30433620460584737, 0.3004228157998907, 0.29984872178466104, 0.29831681676603106, 0.44101481990101904, 0.29621357632594447, 0.29679111006921227, 0.29510738022292055, 0.44857864562994076, 2.3777064891468296, 0.29408142173630997, 0.2902239881102206, 0.28783715741891397, 0.29092378545405045, 9.288248715832419, 0.2907209777266557, 0.2886347996999067, 0.2892271140567243, 0.2879026484784908, 0.5927949651549727, 0.29005533926621413, 0.2830308015915821, 141.2462349249002, 22.795209848514542, 40.64850180374591, 5.5179667638533125, 90.33126334989858, 4.319822984132564, 96.57165637258625, 2.7670752569944956, 20.34291071128865, 24.163439665540864, 74.37313975685194, 357.83475141477726, 173.1736679703465, 233.90564788690978, 3.548054814236402, 7.1406901385687735, 57.90556260768238, 26.620010876876645, 137.26372025447515, 12.470170159175211, 10.927906723097262, 148.3936154366732, 42.34443239944548, 166.8288532504871, 140.262602938876, 280.68383060500776, 94.79142206136508, 168.67916701414765, 200.24229676024345, 71.12952389632527, 66.62715447709748, 134.482364608935, 168.7683923334142, 923.465210230901, 102.28773512421157, 59.78728919382849, 586.9871675877636, 348.00294774716565, 242.22553837147566, 198.62956262820433, 1199.774175391824, 145.75272384416252, 273.31037018763567, 338.32535723640245, 552.741454293252, 303.0144850885165, 373.6223495026906, 389.93124525423354, 233.7081211296982, 260.490085028303, 199.4428957905786, 183.33886778890135, 168.73029240716886, 164.64979902481127, 181.10776400723358, 182.8058349992474, 214.88658319412718, 236.878157052571, 240.30055921459655, 174.5934089748417, 174.37364999522154, 176.84533257890624, 174.068868022296, 174.66899853103098], \"Total\": [9744.0, 14951.0, 6145.0, 6546.0, 2784.0, 2472.0, 4335.0, 4743.0, 3467.0, 2795.0, 3614.0, 3811.0, 3221.0, 1826.0, 2484.0, 3180.0, 2313.0, 2882.0, 1730.0, 1303.0, 1848.0, 1837.0, 1623.0, 1847.0, 1391.0, 2127.0, 1213.0, 1689.0, 1432.0, 1890.0, 31.77590356329521, 10.109269556053228, 12.284128567230473, 17.26847012732357, 9.048518805505267, 21.980394160335326, 4.852832208470663, 9.820629454816784, 20.87668356640471, 34.78661781450791, 117.88737494516305, 8.724572602679888, 520.608003957974, 9.63251137434976, 13.516093873333508, 3.980397589583243, 80.86928636830132, 4.850998417735318, 48.04761360873251, 2.9908802983543343, 24.91384260215445, 12.899466639617373, 3.9748852414456506, 582.4513233380796, 3811.2788599461005, 10.70768953913481, 13.84738027370311, 29.3327210745982, 96.53051980446504, 2.925923021222286, 182.21608697144782, 138.91269279637956, 380.27494844637545, 75.08379016725726, 98.68227350649305, 232.92764671468112, 44.175334190992814, 840.8507870859817, 327.6247015975898, 1730.1107297375756, 264.0354474083548, 969.7481552080519, 1129.3030067520908, 1357.4656207148125, 1666.8200658632236, 3614.4659146912404, 384.2178424167162, 3180.473293973522, 2313.698256323004, 1894.6324471883836, 1005.4107155891492, 226.96467719554664, 334.98979180048485, 1891.3536927725997, 14951.539667926398, 9744.492583275276, 1848.0834823781242, 1097.2035088015439, 2190.7155895557758, 2031.254024244975, 3467.7139772982077, 2045.2846142151316, 1170.4189469551902, 2795.267582096533, 1569.2888534499614, 2948.168496474212, 1772.4787026550941, 1905.2615082405166, 2033.6494537971366, 4335.049256848525, 4743.764483423292, 6145.956605941103, 2784.878949973828, 2882.1909496152443, 6546.280463538401, 3221.100264287661, 2594.4997034718026, 2018.7831867650507, 2484.819459645615, 2472.4069336849816, 2364.672793673205, 1.9457330201176657, 1.9609263507837815, 1.9593928867152368, 1.9469978840177475, 1.914617448864444, 1.9137546386012494, 3.983629238470165, 907.8966237375329, 1.90284495862456, 1.888693235375461, 1.9175513734492924, 1.966448942538195, 1.8983434715413567, 2.920668963188725, 23.802906842601743, 1.9072234957323628, 14.91489091855147, 105.93389410894714, 2.9359570227753036, 1.9599861591994148, 34.78335416490495, 5.706038705340938, 85.64329769109202, 2.877399704645399, 2.936232089635478, 1.9536901643781512, 3.8044451463949387, 3.019938666801358, 6.827804431391579, 6.643705368260532, 214.87693745709254, 29.293066741599517, 23.59705464089426, 82.13513234476358, 6546.280463538401, 127.09900757676253, 275.25510144297937, 63.13573765719097, 429.65464511601806, 327.6331950124605, 580.1306076642582, 894.04647553495, 475.3748387505285, 863.3726592938436, 225.63253622813295, 1012.1933381209631, 113.55023933863505, 1219.7933167210515, 127.22260771451988, 3221.100264287661, 1689.4969602074252, 545.7680558410319, 558.8293240621208, 413.82085148916184, 1432.6054431259538, 805.7265135564755, 14951.539667926398, 6145.956605941103, 929.4720429110938, 500.5064360257828, 1797.2315898030995, 2127.2137363682627, 906.4638464345363, 1141.3507962506035, 2594.4997034718026, 4743.764483423292, 1235.0620599983934, 722.4980921396669, 747.7286375545991, 799.052797066469, 2364.672793673205, 4335.049256848525, 2882.1909496152443, 916.141751017238, 9744.492583275276, 1890.0652984377334, 1835.6601049228584, 1532.2015365253594, 1623.9002428070264, 2948.168496474212, 3614.4659146912404, 2018.7831867650507, 3467.7139772982077, 2484.819459645615, 1899.475384578891, 2784.878949973828, 2472.4069336849816, 1915.6445266830838, 2033.6494537971366, 2045.2846142151316, 2190.7155895557758, 3180.473293973522, 3811.2788599461005, 2795.267582096533, 40.40188893364182, 6.998886820790336, 4.514395548715195, 13.0970498208103, 30.249807860116775, 9.755292242987966, 3.5363713761096625, 32.244882176345335, 31.827428384691537, 2.68268588341372, 26.86119773723314, 3.4838460761441743, 6.249482962642824, 2.613695745858006, 18.973716118082507, 2.628300346604599, 4.434878246751772, 18.942651152571035, 5.284891313690089, 1.7966479195037015, 1.7734129750212093, 2.6211455459268707, 1.7858857524944192, 36.462162767613755, 9.80125550242653, 6.211681294670632, 6.116366071275694, 15.317297796159362, 17.477297231350477, 770.6553178989841, 40.53647684260278, 9.246542135672415, 107.01070711092382, 18.676423342616797, 8.768580225964312, 70.2307587085913, 178.2699904291389, 146.44698334734633, 32.86751666067168, 82.43942552298589, 49.97326340817292, 59.6851174757127, 16.55479318313228, 206.4489821501949, 291.0522316369495, 56.36560033069761, 147.98518224347592, 337.53051821954807, 865.2415569690834, 9744.492583275276, 1159.777567938419, 2364.672793673205, 1125.2735702092302, 469.5590181899635, 1213.961404076348, 368.4063406694159, 624.5835877473324, 995.6490324745781, 2472.4069336849816, 254.45928089029485, 3180.473293973522, 1475.3767539722617, 1835.6601049228584, 587.5083342707999, 2795.267582096533, 1219.7933167210515, 2484.819459645615, 3811.2788599461005, 573.6698272806843, 2127.2137363682627, 677.6291101575188, 1623.9002428070264, 974.9732644421161, 1837.0190337160661, 894.04647553495, 2948.168496474212, 1894.6324471883836, 1848.0834823781242, 1890.0652984377334, 4335.049256848525, 1100.971313689749, 4743.764483423292, 6145.956605941103, 14951.539667926398, 1689.4969602074252, 6546.280463538401, 2784.878949973828, 3467.7139772982077, 2882.1909496152443, 2033.6494537971366, 3614.4659146912404, 1569.2888534499614, 2018.7831867650507, 1797.2315898030995, 2190.7155895557758, 2594.4997034718026, 3221.100264287661, 2313.698256323004, 2.455744431152504, 2.452442898639511, 3.296879595736478, 2.489899398079596, 2.4994528681437806, 2.445030419722182, 1.6763206806940096, 1.6733020608502538, 1.673182369596985, 1.6852509225582675, 1.6844731273549969, 1.6815807826475233, 2.495491139711686, 1.6765776575748146, 1.6837961639313073, 1.6792608071406843, 2.553428372701485, 13.64536325112657, 1.7049755778124285, 1.6857665519914815, 1.6738229424166862, 1.6933229608830143, 54.18632687915708, 1.6960892601163955, 1.6908326955822033, 1.694574003844068, 1.6883090232134979, 3.491204671936921, 1.712407310528582, 1.677748207453721, 881.9843295157204, 141.95756887198212, 260.31579383545585, 33.9433340694744, 611.2355708391699, 26.883404543407522, 662.4710216553788, 17.026524802282324, 135.76520681861305, 163.15517937163617, 529.0869384543962, 2784.878949973828, 1303.201355338863, 1826.451454650814, 22.60441009989216, 47.34793309666679, 432.67254137292804, 189.94388203909793, 1095.5361766058309, 86.2279544661061, 75.07444076078889, 1213.961404076348, 318.5746420905091, 1391.6370436938453, 1162.4028257243417, 2472.4069336849816, 765.0240540588485, 1432.6054431259538, 1730.1107297375756, 561.970261217813, 526.4584462595623, 1141.3507962506035, 1466.3908940997676, 9744.492583275276, 855.8811742455848, 475.46468551184813, 6145.956605941103, 3467.7139772982077, 2313.698256323004, 1847.5475597787668, 14951.539667926398, 1313.3356134048752, 2795.267582096533, 3614.4659146912404, 6546.280463538401, 3221.100264287661, 4335.049256848525, 4743.764483423292, 2484.819459645615, 2882.1909496152443, 2031.254024244975, 1837.0190337160661, 1623.9002428070264, 1579.6870867481075, 1848.0834823781242, 1899.475384578891, 2594.4997034718026, 3180.473293973522, 3811.2788599461005, 1772.4787026550941, 1890.0652984377334, 2190.7155895557758, 1915.6445266830838, 2127.2137363682627], \"Category\": [\"Default\", \"Default\", \"Default\", \"Default\", \"Default\", \"Default\", \"Default\", \"Default\", \"Default\", \"Default\", \"Default\", \"Default\", \"Default\", \"Default\", \"Default\", \"Default\", \"Default\", \"Default\", \"Default\", \"Default\", \"Default\", \"Default\", \"Default\", \"Default\", \"Default\", \"Default\", \"Default\", \"Default\", \"Default\", \"Default\", \"Topic1\", \"Topic1\", \"Topic1\", \"Topic1\", \"Topic1\", \"Topic1\", \"Topic1\", \"Topic1\", \"Topic1\", \"Topic1\", \"Topic1\", \"Topic1\", \"Topic1\", \"Topic1\", \"Topic1\", \"Topic1\", \"Topic1\", \"Topic1\", \"Topic1\", \"Topic1\", \"Topic1\", \"Topic1\", \"Topic1\", \"Topic1\", \"Topic1\", \"Topic1\", \"Topic1\", \"Topic1\", \"Topic1\", \"Topic1\", \"Topic1\", \"Topic1\", \"Topic1\", \"Topic1\", \"Topic1\", \"Topic1\", \"Topic1\", \"Topic1\", \"Topic1\", \"Topic1\", \"Topic1\", \"Topic1\", \"Topic1\", \"Topic1\", \"Topic1\", \"Topic1\", \"Topic1\", \"Topic1\", \"Topic1\", \"Topic1\", \"Topic1\", \"Topic1\", \"Topic1\", \"Topic1\", \"Topic1\", \"Topic1\", \"Topic1\", \"Topic1\", \"Topic1\", \"Topic1\", \"Topic1\", \"Topic1\", \"Topic1\", \"Topic1\", \"Topic1\", \"Topic1\", \"Topic1\", \"Topic1\", \"Topic1\", \"Topic1\", \"Topic1\", \"Topic1\", \"Topic1\", \"Topic1\", \"Topic1\", \"Topic1\", \"Topic1\", \"Topic1\", \"Topic1\", \"Topic1\", \"Topic1\", \"Topic2\", \"Topic2\", \"Topic2\", \"Topic2\", \"Topic2\", \"Topic2\", \"Topic2\", \"Topic2\", \"Topic2\", \"Topic2\", \"Topic2\", \"Topic2\", \"Topic2\", \"Topic2\", \"Topic2\", \"Topic2\", \"Topic2\", \"Topic2\", \"Topic2\", \"Topic2\", \"Topic2\", \"Topic2\", \"Topic2\", \"Topic2\", \"Topic2\", \"Topic2\", \"Topic2\", \"Topic2\", \"Topic2\", \"Topic2\", \"Topic2\", \"Topic2\", \"Topic2\", \"Topic2\", \"Topic2\", \"Topic2\", \"Topic2\", \"Topic2\", \"Topic2\", \"Topic2\", \"Topic2\", \"Topic2\", \"Topic2\", \"Topic2\", \"Topic2\", \"Topic2\", \"Topic2\", \"Topic2\", \"Topic2\", \"Topic2\", \"Topic2\", \"Topic2\", \"Topic2\", \"Topic2\", \"Topic2\", \"Topic2\", \"Topic2\", \"Topic2\", \"Topic2\", \"Topic2\", \"Topic2\", \"Topic2\", \"Topic2\", \"Topic2\", \"Topic2\", \"Topic2\", \"Topic2\", \"Topic2\", \"Topic2\", \"Topic2\", \"Topic2\", \"Topic2\", \"Topic2\", \"Topic2\", \"Topic2\", \"Topic2\", \"Topic2\", \"Topic2\", \"Topic2\", \"Topic2\", \"Topic2\", \"Topic2\", \"Topic2\", \"Topic2\", \"Topic2\", \"Topic2\", \"Topic2\", \"Topic2\", \"Topic2\", \"Topic2\", \"Topic2\", \"Topic2\", \"Topic2\", \"Topic2\", \"Topic3\", \"Topic3\", \"Topic3\", \"Topic3\", \"Topic3\", \"Topic3\", \"Topic3\", \"Topic3\", \"Topic3\", \"Topic3\", \"Topic3\", \"Topic3\", \"Topic3\", \"Topic3\", \"Topic3\", \"Topic3\", \"Topic3\", \"Topic3\", \"Topic3\", \"Topic3\", \"Topic3\", \"Topic3\", \"Topic3\", \"Topic3\", \"Topic3\", \"Topic3\", \"Topic3\", \"Topic3\", \"Topic3\", \"Topic3\", \"Topic3\", \"Topic3\", \"Topic3\", \"Topic3\", \"Topic3\", \"Topic3\", \"Topic3\", \"Topic3\", \"Topic3\", \"Topic3\", \"Topic3\", \"Topic3\", \"Topic3\", \"Topic3\", \"Topic3\", \"Topic3\", \"Topic3\", \"Topic3\", \"Topic3\", \"Topic3\", \"Topic3\", \"Topic3\", \"Topic3\", \"Topic3\", \"Topic3\", \"Topic3\", \"Topic3\", \"Topic3\", \"Topic3\", \"Topic3\", \"Topic3\", \"Topic3\", \"Topic3\", \"Topic3\", \"Topic3\", \"Topic3\", \"Topic3\", \"Topic3\", \"Topic3\", \"Topic3\", \"Topic3\", \"Topic3\", \"Topic3\", \"Topic3\", \"Topic3\", \"Topic3\", \"Topic3\", \"Topic3\", \"Topic3\", \"Topic3\", \"Topic3\", \"Topic3\", \"Topic3\", \"Topic3\", \"Topic3\", \"Topic3\", \"Topic3\", \"Topic3\", \"Topic3\", \"Topic3\", \"Topic3\", \"Topic3\", \"Topic3\", \"Topic3\", \"Topic3\", \"Topic3\", \"Topic3\", \"Topic3\", \"Topic4\", \"Topic4\", \"Topic4\", \"Topic4\", \"Topic4\", \"Topic4\", \"Topic4\", \"Topic4\", \"Topic4\", \"Topic4\", \"Topic4\", \"Topic4\", \"Topic4\", \"Topic4\", \"Topic4\", \"Topic4\", \"Topic4\", \"Topic4\", \"Topic4\", \"Topic4\", \"Topic4\", \"Topic4\", \"Topic4\", \"Topic4\", \"Topic4\", \"Topic4\", \"Topic4\", \"Topic4\", \"Topic4\", \"Topic4\", \"Topic4\", \"Topic4\", \"Topic4\", \"Topic4\", \"Topic4\", \"Topic4\", \"Topic4\", \"Topic4\", \"Topic4\", \"Topic4\", \"Topic4\", \"Topic4\", \"Topic4\", \"Topic4\", \"Topic4\", \"Topic4\", \"Topic4\", \"Topic4\", \"Topic4\", \"Topic4\", \"Topic4\", \"Topic4\", \"Topic4\", \"Topic4\", \"Topic4\", \"Topic4\", \"Topic4\", \"Topic4\", \"Topic4\", \"Topic4\", \"Topic4\", \"Topic4\", \"Topic4\", \"Topic4\", \"Topic4\", \"Topic4\", \"Topic4\", \"Topic4\", \"Topic4\", \"Topic4\", \"Topic4\", \"Topic4\", \"Topic4\", \"Topic4\", \"Topic4\", \"Topic4\", \"Topic4\", \"Topic4\", \"Topic4\", \"Topic4\", \"Topic4\", \"Topic4\", \"Topic4\", \"Topic4\", \"Topic4\", \"Topic4\", \"Topic4\", \"Topic4\", \"Topic4\", \"Topic4\", \"Topic4\", \"Topic4\", \"Topic4\", \"Topic4\"], \"logprob\": [30.0, 29.0, 28.0, 27.0, 26.0, 25.0, 24.0, 23.0, 22.0, 21.0, 20.0, 19.0, 18.0, 17.0, 16.0, 15.0, 14.0, 13.0, 12.0, 11.0, 10.0, 9.0, 8.0, 7.0, 6.0, 5.0, 4.0, 3.0, 2.0, 1.0, -9.7763, -10.9239, -10.7316, -10.394, -11.0458, -10.1624, -11.6788, -10.9754, -10.2253, -9.7165, -8.4988, -11.1099, -7.0238, -11.014, -10.6755, -11.9019, -8.8906, -11.7055, -9.4151, -12.1921, -10.0732, -10.7327, -11.9124, -6.9263, -5.049, -10.9245, -10.6691, -9.9194, -8.7283, -12.2247, -8.0962, -8.3696, -7.3743, -8.9843, -8.717, -7.8679, -9.5139, -6.6042, -7.5396, -5.9193, -7.7616, -6.4875, -6.3388, -6.1624, -5.9696, -5.2223, -7.402, -5.3561, -5.663, -5.8666, -6.481, -7.9149, -7.5439, -5.8822, -3.9009, -4.335, -5.9165, -6.4124, -5.7576, -5.832, -5.3308, -5.831, -6.3574, -5.5392, -6.0874, -5.5047, -5.9817, -5.9175, -5.8593, -5.1869, -5.142, -4.9219, -5.636, -5.6145, -4.9516, -5.5423, -5.7236, -5.9123, -5.8029, -5.8464, -5.907, -12.3986, -12.4086, -12.4144, -12.4225, -12.4752, -12.4848, -11.7552, -6.3439, -12.5213, -12.5298, -12.5254, -12.5009, -12.5375, -12.1072, -10.0101, -12.5481, -10.4923, -8.5325, -12.1189, -12.5271, -9.651, -11.4615, -8.7531, -12.1469, -12.1376, -12.5457, -11.8817, -12.113, -11.2983, -11.3258, -7.8642, -9.845, -10.0628, -8.8288, -4.5357, -8.4056, -7.6497, -9.103, -7.2242, -7.4905, -6.9381, -6.5188, -7.136, -6.5584, -7.8638, -6.4084, -8.531, -6.2281, -8.4229, -5.2977, -5.9219, -7.0122, -6.9895, -7.2806, -6.0887, -6.6452, -3.8815, -4.7276, -6.5251, -7.1142, -5.9023, -5.7478, -6.5534, -6.3381, -5.569, -5.0082, -6.2782, -6.7755, -6.7444, -6.6856, -5.7174, -5.1824, -5.5468, -6.5737, -4.5682, -5.9641, -5.9905, -6.1423, -6.0951, -5.6083, -5.4557, -5.9283, -5.5126, -5.7733, -5.9878, -5.7381, -5.8203, -5.9971, -5.9739, -5.9705, -5.9417, -5.7591, -5.7498, -5.8741, -9.2781, -11.0812, -11.5351, -10.4705, -9.6547, -10.7897, -11.8061, -9.6017, -9.6231, -12.0989, -9.7993, -11.8448, -11.2613, -12.1346, -10.1538, -12.1321, -11.6096, -10.1583, -11.4352, -12.5152, -12.5312, -12.1407, -12.5265, -9.5118, -10.8279, -11.2853, -11.3007, -10.3844, -10.2535, -6.4674, -9.4162, -10.8954, -8.4786, -10.2025, -10.948, -8.9123, -8.0139, -8.2047, -9.6557, -8.7653, -9.2534, -9.0834, -10.3281, -7.886, -7.5601, -9.1414, -8.2171, -7.4256, -6.5222, -4.2336, -6.2714, -5.6091, -6.3082, -7.1326, -6.2443, -7.3707, -6.8752, -6.4453, -5.5996, -7.7215, -5.3753, -6.0939, -5.8998, -6.9511, -5.5168, -6.28, -5.6377, -5.2485, -6.982, -5.7986, -6.8327, -6.0529, -6.5091, -5.9564, -6.591, -5.546, -5.9318, -5.9545, -5.939, -5.2317, -6.4165, -5.1902, -4.9736, -4.2374, -6.0604, -4.9631, -5.6939, -5.5374, -5.712, -5.9921, -5.7017, -6.1455, -6.0448, -6.093, -6.0247, -5.9673, -5.908, -6.0195, -11.9276, -11.9396, -11.654, -11.964, -11.9728, -12.0002, -12.3999, -12.4127, -12.4134, -12.4264, -12.4283, -12.4334, -12.0425, -12.4405, -12.4385, -12.4442, -12.0255, -10.3577, -12.4477, -12.4609, -12.4692, -12.4585, -8.995, -12.4592, -12.4664, -12.4643, -12.4689, -11.7467, -12.4615, -12.486, -6.2733, -8.0972, -7.5188, -9.5158, -6.7203, -9.7606, -6.6535, -10.206, -8.2111, -8.039, -6.9147, -5.3437, -6.0695, -5.7689, -9.9574, -9.258, -7.165, -7.9421, -6.3019, -8.7005, -8.8325, -6.2239, -7.478, -6.1068, -6.2803, -5.5866, -6.6721, -6.0958, -5.9243, -6.9593, -7.0247, -6.3224, -6.0953, -4.3957, -6.596, -7.133, -4.8488, -5.3716, -5.7339, -5.9324, -4.1339, -6.2419, -5.6132, -5.3998, -4.9089, -5.51, -5.3006, -5.2578, -5.7697, -5.6612, -5.9283, -6.0125, -6.0955, -6.12, -6.0247, -6.0154, -5.8537, -5.7562, -5.7419, -6.0613, -6.0626, -6.0485, -6.0643, -6.0609], \"loglift\": [30.0, 29.0, 28.0, 27.0, 26.0, 25.0, 24.0, 23.0, 22.0, 21.0, 20.0, 19.0, 18.0, 17.0, 16.0, 15.0, 14.0, 13.0, 12.0, 11.0, 10.0, 9.0, 8.0, 7.0, 6.0, 5.0, 4.0, 3.0, 2.0, 1.0, 0.3428, 0.3404, 0.3378, 0.3348, 0.3293, 0.3252, 0.3194, 0.3178, 0.3138, 0.312, 0.3093, 0.3017, 0.2989, 0.2986, 0.2983, 0.2944, 0.2943, 0.293, 0.2904, 0.2901, 0.2891, 0.2879, 0.2854, 0.2841, 0.283, 0.2823, 0.2806, 0.2797, 0.2796, 0.2794, 0.2763, 0.2743, 0.2626, 0.2748, 0.2688, 0.2591, 0.2756, 0.2391, 0.2462, 0.2025, 0.24, 0.2132, 0.2096, 0.202, 0.1895, 0.1628, 0.2246, 0.1568, 0.1681, 0.1644, 0.1835, 0.2381, 0.2198, 0.1505, 0.0643, 0.0583, 0.1394, 0.1648, 0.1281, 0.1293, 0.0956, 0.1235, 0.1552, 0.1029, 0.132, 0.0841, 0.1159, 0.1079, 0.1009, 0.0163, -0.0288, -0.0677, 0.0098, -0.0031, -0.1605, -0.042, -0.007, 0.0551, -0.0431, -0.0817, -0.0977, 0.5135, 0.4957, 0.4907, 0.489, 0.453, 0.4439, 0.4403, 0.4227, 0.4131, 0.412, 0.4013, 0.4006, 0.3993, 0.3988, 0.3979, 0.384, 0.3831, 0.3825, 0.3818, 0.3777, 0.3776, 0.3747, 0.3745, 0.3739, 0.363, 0.3624, 0.3599, 0.3595, 0.3584, 0.3582, 0.3434, 0.3554, 0.3538, 0.3406, 0.2554, 0.3272, 0.3103, 0.3294, 0.2905, 0.2953, 0.2764, 0.2632, 0.2776, 0.2585, 0.2951, 0.2495, 0.3145, 0.2432, 0.3089, 0.2026, 0.2236, 0.2634, 0.2624, 0.2717, 0.2218, 0.2408, 0.0837, 0.1266, 0.2181, 0.2479, 0.1814, 0.1674, 0.2148, 0.1996, 0.1476, 0.105, 0.1806, 0.2195, 0.2163, 0.2087, 0.092, 0.0209, 0.0646, 0.1839, -0.1749, 0.0693, 0.0721, 0.101, 0.0901, -0.0195, -0.0707, 0.0392, -0.0861, -0.0135, 0.0406, -0.0923, -0.0555, 0.0229, -0.0137, -0.0161, -0.056, -0.2461, -0.4178, -0.232, 0.6007, 0.5508, 0.5354, 0.5349, 0.5135, 0.5102, 0.5085, 0.5027, 0.4943, 0.492, 0.4878, 0.4848, 0.4839, 0.4823, 0.4809, 0.4793, 0.4786, 0.478, 0.4777, 0.4766, 0.4736, 0.4734, 0.4714, 0.4697, 0.4673, 0.4661, 0.466, 0.4643, 0.4633, 0.4631, 0.4594, 0.4581, 0.4262, 0.448, 0.4585, 0.4137, 0.3806, 0.3863, 0.4296, 0.4004, 0.4129, 0.4052, 0.443, 0.3616, 0.3441, 0.4045, 0.3635, 0.3305, 0.2926, 0.1597, 0.2503, 0.2002, 0.2438, 0.2934, 0.2318, 0.2979, 0.2654, 0.229, 0.1652, 0.3171, 0.1376, 0.1872, 0.1628, 0.2508, 0.1252, 0.1913, 0.1221, 0.0835, 0.2437, 0.1165, 0.2265, 0.1322, 0.1862, 0.1055, 0.191, 0.0428, 0.0991, 0.1014, 0.0944, -0.0284, 0.1573, -0.077, -0.1194, -0.2723, 0.0852, -0.172, -0.0481, -0.1109, -0.1006, -0.0319, -0.3167, 0.0738, -0.0773, -0.0093, -0.139, -0.2507, -0.4077, -0.1883, 0.7518, 0.7411, 0.7308, 0.7015, 0.6888, 0.6835, 0.6612, 0.6503, 0.6496, 0.6295, 0.628, 0.6246, 0.6208, 0.6205, 0.6182, 0.6152, 0.6148, 0.6067, 0.5965, 0.5946, 0.5935, 0.5926, 0.5903, 0.5902, 0.5861, 0.586, 0.5851, 0.5808, 0.5784, 0.5743, 0.5223, 0.525, 0.497, 0.5373, 0.4419, 0.5256, 0.4283, 0.537, 0.4557, 0.4441, 0.3919, 0.3021, 0.3357, 0.2987, 0.5022, 0.4622, 0.3428, 0.3889, 0.2768, 0.4203, 0.4268, 0.2522, 0.3359, 0.2327, 0.2392, 0.1782, 0.2657, 0.2147, 0.1975, 0.287, 0.2869, 0.2154, 0.1919, -0.0024, 0.2296, 0.2804, 0.0054, 0.0549, 0.0972, 0.1238, -0.1687, 0.1555, 0.0289, -0.0147, -0.1178, -0.0098, -0.0973, -0.1447, -0.0099, -0.0498, 0.0331, 0.0494, 0.0897, 0.0928, 0.0311, 0.013, -0.1371, -0.2433, -0.4099, 0.0363, -0.0292, -0.1628, -0.0444, -0.1457]}, \"token.table\": {\"Topic\": [1, 2, 3, 4, 1, 2, 3, 4, 1, 1, 2, 3, 4, 1, 2, 3, 4, 1, 2, 1, 2, 3, 4, 1, 2, 3, 4, 1, 2, 3, 4, 1, 2, 3, 4, 1, 2, 3, 4, 1, 2, 3, 4, 1, 2, 3, 4, 1, 2, 3, 4, 1, 2, 3, 4, 1, 2, 1, 2, 3, 1, 2, 3, 4, 1, 2, 3, 4, 2, 1, 2, 3, 4, 1, 2, 3, 4, 1, 2, 3, 4, 2, 1, 2, 1, 2, 3, 4, 2, 1, 2, 3, 4, 1, 2, 3, 4, 1, 2, 3, 4, 1, 2, 3, 4, 1, 2, 3, 4, 1, 2, 3, 4, 1, 2, 3, 4, 1, 2, 1, 2, 3, 4, 1, 2, 3, 4, 1, 2, 2, 2, 1, 2, 1, 2, 3, 4, 1, 2, 3, 4, 1, 2, 3, 1, 2, 3, 4, 1, 2, 3, 4, 1, 2, 3, 4, 1, 2, 3, 4, 1, 2, 3, 4, 1, 2, 3, 4, 1, 2, 3, 4, 1, 2, 3, 4, 1, 2, 3, 4, 1, 2, 3, 4, 1, 2, 1, 2, 3, 4, 1, 2, 3, 4, 1, 2, 3, 4, 2, 1, 2, 3, 4, 1, 2, 3, 4, 1, 2, 3, 1, 2, 3, 4, 1, 2, 3, 4, 1, 2, 3, 4, 1, 2, 3, 4, 1, 2, 3, 4, 1, 2, 3, 4, 1, 2, 1, 2, 3, 4, 1, 2, 3, 4, 1, 2, 3, 4, 1, 2, 3, 4, 1, 2, 3, 4, 1, 2, 3, 4, 1, 2, 3, 1, 2, 3, 4, 1, 2, 3, 4, 1, 2, 3, 4, 1, 2, 3, 4, 1, 2, 3, 4, 1, 2, 3, 4, 1, 2, 3, 4, 1, 2, 3, 4, 1, 2, 3, 4, 1, 2, 3, 4, 1, 2, 3, 4, 1, 2, 3, 4, 1, 2, 3, 4, 1, 2, 3, 4, 1, 2, 3, 1, 2, 3, 4, 1, 2, 3, 4, 1, 2, 3, 4, 2, 1, 2, 3, 4, 1, 2, 3, 4, 1, 2, 3, 4, 1, 2, 3, 4, 1, 2, 3, 4, 1, 2, 3, 4, 1, 2, 3, 4, 1, 2, 3, 4, 1, 2, 3, 4, 1, 2, 1, 2, 1, 2, 3, 4, 1, 2, 3, 4, 1, 2, 1, 2, 3, 4, 1, 2, 3, 4, 1, 2, 3, 4, 1, 2, 3, 4, 1, 2, 3, 4, 1, 2, 1, 2, 1, 2, 1, 2, 3, 4, 2, 2, 2, 1, 2, 3, 1, 2, 3, 1, 2, 3, 4, 1, 2, 3, 4, 1, 2, 3, 4, 1, 2, 3, 4, 1, 2, 3, 4, 2, 1, 2, 3, 4, 1, 2, 3, 4, 1, 2, 3, 4, 1, 2, 3, 4, 1, 2, 3, 4, 1, 2, 3, 4, 1, 2, 3, 4, 1, 2, 3, 4, 1, 2, 3, 4, 1, 2, 1, 2, 3, 4, 1, 2, 3, 4, 1, 2, 3, 4, 1, 2, 3, 4, 1, 2, 3, 4, 1, 2, 3, 4, 1, 2, 3, 4, 1, 2, 3, 4, 1, 2, 3, 4, 1, 2, 3, 4, 1, 2, 1, 2, 3, 4, 1, 2, 3, 4, 1, 2, 3, 4, 1, 2, 3, 4, 1, 2, 1, 2, 3, 4, 1, 2, 3, 4, 1, 2, 3, 4, 1, 2, 3, 1, 2, 1, 2, 3, 4, 1, 2, 3, 4, 1, 2, 3, 4, 1, 2, 3, 4, 1, 2, 3, 4, 1, 2, 3, 4, 2, 1, 2, 1, 1, 2, 3, 4, 1, 2, 3, 4, 1, 2, 3, 4, 1, 2, 3, 4, 1, 2, 3, 4, 1, 2, 3, 4, 2, 1, 2, 3, 4, 1, 2, 3, 4, 1, 2, 1, 2, 3, 4, 1, 2, 3, 1, 2, 1, 2, 3, 1, 2, 3, 4, 1, 2, 3, 4, 1, 2, 3, 4, 1, 2, 3, 4, 1, 2, 3, 4, 1, 2, 3, 1, 1, 2, 3, 4, 1, 2, 3, 4, 1, 2, 3, 4, 1, 2, 3, 4, 1, 2, 3, 1, 2, 3, 4, 1, 2, 3, 4, 1, 2, 3, 4, 1, 2, 1, 2, 3, 4, 1, 2, 3, 4, 1, 2, 3, 4, 1, 2, 1, 2, 3, 4, 1, 2, 3, 4, 1, 2, 3, 4, 1, 2, 3, 4, 1, 2, 3, 4, 1, 2, 3, 4, 1, 2, 3, 4, 1, 2, 3, 4, 1, 2, 3, 4, 1, 2, 3, 4, 1, 2, 1, 2, 3, 4, 1, 2, 3, 4, 1, 2, 3, 4, 1, 2, 3, 1, 2, 1, 2, 3, 4, 1, 2, 3, 4, 1, 2, 3, 4, 1, 2, 3, 4, 1, 2, 3, 4, 1, 2, 3, 4, 1, 2, 3, 4, 1, 2, 3, 4, 1, 2, 3, 4, 1, 2, 1, 2, 3, 4, 1, 2, 3, 1, 2, 3, 4, 1, 2, 3, 4, 1, 2, 3, 4, 1, 2, 3, 4, 1, 2, 3, 4, 1, 2, 3, 4, 1, 2, 3, 4, 1, 2, 3, 4, 1, 2, 3, 4, 1, 2, 3, 4, 1, 2, 3, 4, 1, 2, 1, 2, 3, 4, 1, 2, 3, 4, 1, 2, 3, 4, 1, 2, 3, 4, 1, 2, 3, 4, 1, 2, 3, 4, 1, 2, 3, 4, 1, 2, 1, 2, 3, 4, 1, 2, 3, 4, 1, 2, 3, 4, 1, 2, 3, 4, 1, 2, 3, 4, 1, 2, 1, 2, 3, 4, 1, 2, 3, 1, 2, 3, 4, 1, 2, 3, 4, 1, 2, 3, 4, 1, 2, 1, 2, 1, 2, 3, 4, 1, 2, 3, 4, 1, 2, 3, 4, 1, 2, 3, 4, 1, 2, 3, 1, 2, 3, 4, 1, 2, 3, 4, 1, 2, 3, 1, 2, 3, 4, 1, 2, 3, 4, 1, 2, 3, 4, 1, 2, 3, 4, 1, 2, 3, 4, 1, 2, 3, 4], \"Freq\": [0.4732682825029248, 0.2800710932072103, 0.14219658898946325, 0.10459445147553224, 0.5075076142816416, 0.2537538071408208, 0.1628569210008253, 0.07574740511666293, 0.5976207305283965, 0.5194746167174218, 0.2876429695873327, 0.11591582356504453, 0.07727721571002968, 0.5525766269014015, 0.22103065076056064, 0.11051532538028032, 0.11051532538028032, 0.6686994464808423, 0.33434972324042117, 0.48956404086834, 0.23293306785117002, 0.16183935235317023, 0.1155995373951216, 0.3602400133687486, 0.33302187902533203, 0.22414934165166578, 0.08165440303024968, 0.2996360645305423, 0.38799028868698426, 0.1575010082788748, 0.1575010082788748, 0.32701262449965224, 0.42778388643005866, 0.16400028902399477, 0.08101219096366007, 0.3655906731464574, 0.3354595737113098, 0.21593954595189102, 0.08336270843724165, 0.3522669809678697, 0.4579470752582306, 0.12329344333875439, 0.07045339619357394, 0.33523543868369093, 0.46932961415716734, 0.13409417547347638, 0.06704708773673819, 0.35546911487988214, 0.3128128210942963, 0.21861350565112753, 0.11286144397436258, 0.40730245478362376, 0.2862923051739964, 0.21545709564640966, 0.09149547897313287, 0.5214984139909636, 0.5214984139909636, 0.4089928664828741, 0.4089928664828741, 0.4089928664828741, 0.34367262732831566, 0.31108298163338916, 0.23997830011718593, 0.10665702227430486, 0.5790900946214795, 0.17372702838644388, 0.17372702838644388, 0.11581801892429591, 0.5960369950373402, 0.33561174857510273, 0.36455441313112075, 0.19582483678327095, 0.10407043212695846, 0.3364149342802078, 0.34575979356576914, 0.26165605999571717, 0.056069155713367964, 0.5066867735586851, 0.2467344288633597, 0.12777318637566842, 0.11896124248769128, 0.5139451248761386, 0.5565920785838974, 0.5565920785838974, 0.2722644977829372, 0.32176713374347127, 0.32176713374347127, 0.09900527192106809, 0.5136112412903293, 0.4228382633696879, 0.24162186478267877, 0.24162186478267877, 0.060405466195669694, 0.498522653787202, 0.26567973764707176, 0.14627311398546647, 0.08955496774620396, 0.4260337415211869, 0.3057567565449231, 0.1639565216255385, 0.10445106590043958, 0.36238933509073656, 0.4005930300551214, 0.1462655750065021, 0.09059733377268414, 0.4748712871380951, 0.21654130693497137, 0.18045108911247615, 0.12726550495300948, 0.28643408048752406, 0.28643408048752406, 0.28643408048752406, 0.28643408048752406, 0.3062022621645612, 0.5088685076259973, 0.09472444081349735, 0.09031865286868351, 0.5118518884074408, 0.5118518884074408, 0.30608323589332814, 0.30608323589332814, 0.30608323589332814, 0.10202774529777604, 0.36642483662625813, 0.21985490197575489, 0.21985490197575489, 0.14656993465050325, 0.5901188131834568, 0.5901188131834568, 0.5255288905528244, 0.5938961148748623, 0.5905547985238042, 0.5905547985238042, 0.2848281233075851, 0.35184650526231104, 0.2513189323302222, 0.10052757293208886, 0.3020751787628025, 0.4908721654895541, 0.11327819203605094, 0.09439849336337579, 0.3727607492858982, 0.3727607492858982, 0.3727607492858982, 0.30541229167841133, 0.30541229167841133, 0.30541229167841133, 0.07635307291960283, 0.5664669759632596, 0.25176310042811534, 0.12588155021405767, 0.06294077510702883, 0.4456081206322381, 0.30442015308209436, 0.16218246086615026, 0.08765200959432716, 0.2874938383627652, 0.4887395252167009, 0.1437469191813826, 0.08624815150882957, 0.28394898411270936, 0.4468705323741, 0.1559391961930453, 0.11404508378297344, 0.5206525410890862, 0.2942818710503531, 0.11318533501936656, 0.06791120101161993, 0.3269915464008286, 0.3269915464008286, 0.3269915464008286, 0.1634957732004143, 0.2857597288270128, 0.2857597288270128, 0.2857597288270128, 0.1428798644135064, 0.30723993767504604, 0.47792879193896054, 0.10241331255834868, 0.10241331255834868, 0.35482634590352585, 0.30160239401799693, 0.24837844213246807, 0.08870658647588146, 0.5865186651430231, 0.5865186651430231, 0.32002647450281657, 0.32002647450281657, 0.32002647450281657, 0.16001323725140829, 0.5461870452975157, 0.20122680616224262, 0.17248011956763654, 0.05749337318921218, 0.32889571776692617, 0.42446164330675, 0.14148721443558335, 0.10425373695253509, 0.522297548574572, 0.3887208158085654, 0.3701701478090243, 0.15894549626879517, 0.08221318772523889, 0.2615755334689599, 0.4541241900502776, 0.18528266954051326, 0.09809082505085996, 0.2628504187917105, 0.525700837583421, 0.2628504187917105, 0.35050585936754514, 0.5257587890513177, 0.17525292968377257, 0.17525292968377257, 0.5935146913168736, 0.1978382304389579, 0.1978382304389579, 0.09891911521947895, 0.40021400717106426, 0.2601391046611918, 0.2601391046611918, 0.08004280143421286, 0.3416076596320533, 0.36465262079770766, 0.20672685751542907, 0.08743529383439459, 0.35653397969982176, 0.2194055259691211, 0.27425690746140136, 0.13712845373070068, 0.51907543170044, 0.207630172680176, 0.207630172680176, 0.103815086340088, 0.5976634813818098, 0.5976634813818098, 0.3917140007230539, 0.2611426671487026, 0.2611426671487026, 0.06528566678717565, 0.4013832288633925, 0.36875044602897034, 0.14423690012814594, 0.08549789102618605, 0.26771721267373233, 0.3212606552084788, 0.26771721267373233, 0.10708688506949293, 0.3406514603858935, 0.4303207013036152, 0.14450954328477814, 0.08447545183560498, 0.5269036130672344, 0.1916013138426307, 0.14370098538197304, 0.09580065692131536, 0.4835554937854576, 0.30357205937399695, 0.13138790712036627, 0.08159249026652882, 0.45097066677419057, 0.22548533338709528, 0.22548533338709528, 0.5698409912994089, 0.24421756769974665, 0.16281171179983112, 0.08140585589991556, 0.2938927688620626, 0.3918570251494168, 0.23000303650074463, 0.08518630981509061, 0.5322333173240346, 0.2626828953244429, 0.13219988849661504, 0.07382591175784996, 0.5217982712500484, 0.28096829990387223, 0.1204149856730881, 0.08027665711539207, 0.26543492944452574, 0.39815239416678855, 0.17695661962968381, 0.17695661962968381, 0.5179011085303725, 0.22195761794158822, 0.07398587264719607, 0.07398587264719607, 0.39737911652885455, 0.3862016244053465, 0.1337444747192168, 0.08286761401911127, 0.5078189930460717, 0.2497470457603631, 0.17839074697168794, 0.06303139726332974, 0.2520700534466394, 0.5041401068932788, 0.1680467022977596, 0.0840233511488798, 0.3319671239844687, 0.3991702246935197, 0.17165129337733506, 0.0971611094588689, 0.37111273140852874, 0.25173381081557544, 0.27249536222304555, 0.10510535400031758, 0.3756485273000596, 0.287260638523575, 0.1841414349510096, 0.1473131479608077, 0.40396728913857194, 0.3041424834669959, 0.16338232582937798, 0.12855136845476334, 0.37512330690605294, 0.32970886297069546, 0.20073184219428014, 0.0944620433855436, 0.3815125800831434, 0.3815125800831434, 0.3815125800831434, 0.37703328886514126, 0.28277496664885593, 0.28277496664885593, 0.09425832221628531, 0.3433025095686593, 0.3433025095686593, 0.2860854246405494, 0.05721708492810989, 0.52694367643018, 0.24320477373700616, 0.16213651582467078, 0.07093472567329347, 0.5965445702107501, 0.5426580955294161, 0.2325677552268926, 0.15504517015126174, 0.07752258507563087, 0.37390436466450083, 0.3782974968864075, 0.15229525035943114, 0.09550994867626719, 0.4527487243409144, 0.3280716998193883, 0.14227848680691801, 0.07725086225255343, 0.36284089802852215, 0.3653782469657846, 0.20975417881369113, 0.06216504896292862, 0.45538371319354115, 0.29243018987779834, 0.154092002410355, 0.0979690366762321, 0.35464081735728387, 0.35845415947940523, 0.2021071324724306, 0.08552781616757844, 0.4713315246580958, 0.2670702704109703, 0.1894826622085738, 0.07230953961719946, 0.5268470067357041, 0.24695953440736126, 0.1262237620304291, 0.0987838137629445, 0.38375567894131785, 0.3281720190946587, 0.17741085951056956, 0.11116731969331826, 0.34060444081525393, 0.34060444081525393, 0.5895916114293267, 0.5895916114293267, 0.4283593021981117, 0.24365391501176994, 0.23579411130171285, 0.09431764452068514, 0.3321871224108337, 0.29527744214296325, 0.20300324147328724, 0.16609356120541685, 0.5243223996755586, 0.5243223996755586, 0.29752255094043617, 0.3305806121560402, 0.29752255094043617, 0.09917418364681206, 0.4804006885056644, 0.3242455992812559, 0.0994618402703239, 0.09548336665951093, 0.33327351401653266, 0.2954796103651733, 0.24050665959955966, 0.12712494864548152, 0.36461549049017905, 0.29730186147660753, 0.25242610880089317, 0.08975150535142869, 0.4325941461477066, 0.2162970730738533, 0.32444560961077995, 0.10814853653692665, 0.4000875602597981, 0.4000875602597981, 0.340572532917228, 0.340572532917228, 0.34238731352430335, 0.34238731352430335, 0.3421306440370829, 0.22808709602472194, 0.22808709602472194, 0.11404354801236097, 0.5225330247825779, 0.5294666075304738, 0.5099630588371156, 0.40162265221288773, 0.40162265221288773, 0.40162265221288773, 0.4007227211055271, 0.4007227211055271, 0.4007227211055271, 0.4351854385305221, 0.32698266776572354, 0.17909424126587348, 0.05868049950567445, 0.5255099338330772, 0.21596298650674406, 0.1583728567716123, 0.10078272703648056, 0.3895302355775035, 0.275808321163937, 0.21045089908717468, 0.12417910194584843, 0.5603449724677771, 0.18678165748925904, 0.18678165748925904, 0.09339082874462952, 0.4463720352317764, 0.29758135682118425, 0.1115930088079441, 0.14879067841059213, 0.5974347552891035, 0.30420737187567914, 0.4330481411406727, 0.15031423080915912, 0.11273567310686933, 0.33107164178339904, 0.33560686975303466, 0.17347246983856185, 0.15986678592965503, 0.3492697532032361, 0.31220102939628885, 0.21664609691615824, 0.12191491385395976, 0.5397535148589142, 0.24394553874406444, 0.13829983298876095, 0.07875407156304443, 0.5127818481963812, 0.25944319700412144, 0.14040455367281868, 0.08851591427199437, 0.5206758972920379, 0.23667086240547178, 0.14989154619013212, 0.09203866871323903, 0.4400593618707126, 0.305965257499886, 0.15370356479494746, 0.1003542974646186, 0.3068473998622343, 0.46420504081722624, 0.12588611276399356, 0.10228246662074476, 0.5317222635570937, 0.1978501445793837, 0.17311887650696076, 0.09892507228969186, 0.4072084974781722, 0.4072084974781722, 0.296647192055437, 0.4661598732299724, 0.12713451088090155, 0.0847563405872677, 0.3033171127308377, 0.3033171127308377, 0.3033171127308377, 0.3033171127308377, 0.3630868793131064, 0.3415478271504645, 0.2071851684216031, 0.08923321610237361, 0.315261097224288, 0.4904061512377813, 0.1284397062765618, 0.07005802160539733, 0.4092743261922444, 0.30072765707169263, 0.16370973047689777, 0.1263412050419537, 0.36755640104091875, 0.3100058163267874, 0.1895332589918725, 0.13275001540726292, 0.4066851137192517, 0.3404805603230944, 0.1667801118655808, 0.08627352951276242, 0.4932245789391358, 0.2417420288157703, 0.17887139128492896, 0.08589368789424806, 0.34927650812187633, 0.376805691028034, 0.15313107991550243, 0.1204401752144401, 0.3502039974824555, 0.3305804976235248, 0.17359249875207924, 0.14642149894740597, 0.5031591803321114, 0.2515795901660557, 0.35250271735491573, 0.3305435316836259, 0.229993576241404, 0.08783674268515933, 0.44908861178846743, 0.29337447001256667, 0.1590992318145073, 0.0987317927926907, 0.29782737457425257, 0.29782737457425257, 0.29782737457425257, 0.11168526546534471, 0.3618922587306228, 0.3571305184841672, 0.18835328085979783, 0.09206031143147422, 0.5599462331805153, 0.5599462331805153, 0.4204874966944185, 0.31700815180477643, 0.13468740128493092, 0.12811728414908063, 0.4509207551050494, 0.25558261422958267, 0.1679542893508686, 0.1250529219623315, 0.2956834455987177, 0.35904418394130005, 0.2112024611419412, 0.14784172279935884, 0.5024623683910442, 0.2512311841955221, 0.2512311841955221, 0.33113255278762815, 0.33113255278762815, 0.3058831606676108, 0.41522600995603276, 0.17024266408197342, 0.10934284928842196, 0.3010368294709077, 0.4515552442063616, 0.15051841473545385, 0.15051841473545385, 0.3523913464241234, 0.2936594553534362, 0.23492756428274894, 0.1761956732120617, 0.39839372706607423, 0.29419844460263944, 0.1593574908264297, 0.14709922230131972, 0.31655150795721093, 0.46265220393746215, 0.13392563798189694, 0.0730503479901256, 0.4673540200481239, 0.2896398771413419, 0.15549987504343427, 0.08714828161774887, 0.5103621671692494, 0.5085308742922404, 0.5085308742922404, 0.5923086273013085, 0.3219740204179371, 0.3219740204179371, 0.3219740204179371, 0.16098701020896855, 0.40665164603833337, 0.3408774388485644, 0.16130341287014763, 0.09083104802396663, 0.3428873106292877, 0.4396530547332584, 0.13252699735978601, 0.08624772844049566, 0.3990575535507909, 0.34693789945906495, 0.157938345732503, 0.09634239089682683, 0.3457559544911736, 0.3354091428854527, 0.220731980922046, 0.0982947102543486, 0.3892175240850074, 0.32008378204473337, 0.19052606074091272, 0.09961791175882008, 0.596453135040884, 0.38909304021358276, 0.2818295534520005, 0.2019077397865078, 0.12619233736656738, 0.5428910435046204, 0.23751483153327138, 0.11875741576663569, 0.10179207065711632, 0.3475360056461939, 0.3475360056461939, 0.47060894753113336, 0.31069597182684466, 0.12505305366494548, 0.09351312420077783, 0.44302719564952686, 0.22151359782476343, 0.22151359782476343, 0.583973213529042, 0.583973213529042, 0.6184293915726623, 0.20614313052422076, 0.20614313052422076, 0.30521937801875304, 0.44867248568756696, 0.14345310766881392, 0.10377458852637603, 0.33936678078229393, 0.4320266526682445, 0.12740732384318204, 0.10192585907454563, 0.36953644680564735, 0.26395460486117667, 0.26395460486117667, 0.10558184194447066, 0.3162269300678439, 0.3162269300678439, 0.26352244172320327, 0.10540897668928131, 0.3481332371261796, 0.43425040631002404, 0.15940837699988225, 0.05863296625283025, 0.38047402051742746, 0.38047402051742746, 0.38047402051742746, 0.5955001127565901, 0.4240343932419691, 0.27985038489129954, 0.201344501340935, 0.09472017061043986, 0.33261668872903655, 0.45932780824485997, 0.12671111951582345, 0.07919444969738965, 0.3416545202047401, 0.41048601694928477, 0.14767484756102317, 0.10011854071933775, 0.37826636451951057, 0.2876218900724389, 0.21963853423713517, 0.11504875602897556, 0.2827757307265882, 0.2827757307265882, 0.2827757307265882, 0.45228951842212445, 0.25513767705863427, 0.16236033994640364, 0.13916600566834597, 0.3058069600841403, 0.44763047780432136, 0.1462555026489367, 0.09750366843262445, 0.2986890512830061, 0.4558938151161672, 0.17292524021647723, 0.0707421437249225, 0.5267750620429357, 0.5267750620429357, 0.34201365744968076, 0.31486971638224576, 0.23072349907319734, 0.11129015837648341, 0.5454659306686626, 0.2386413446675399, 0.13636648266716564, 0.06818324133358282, 0.3663066394641754, 0.2535969042444291, 0.22541947043949254, 0.16202024437838528, 0.5102076845320503, 0.5102076845320503, 0.33829808214455603, 0.39950332726939347, 0.17026186371091143, 0.09180786768725616, 0.46735459551681274, 0.2792443708212956, 0.13319605972229162, 0.11917542185678724, 0.41003384628227524, 0.20501692314113762, 0.30752538471170643, 0.10250846157056881, 0.30127310790633705, 0.4166920785187844, 0.18703792160786345, 0.09470274511790555, 0.42253175357917894, 0.34674352579768497, 0.15900667397293838, 0.07182544462952045, 0.3561161441320091, 0.4142136419662341, 0.15492666089126678, 0.07423569167706534, 0.33757551523275114, 0.41369548435386166, 0.17320050944948343, 0.07611996912111055, 0.4599359326052821, 0.25215311128713114, 0.18992648511112237, 0.09793929859006595, 0.3860947600627137, 0.32331512428015863, 0.1569490894563877, 0.13183723514336565, 0.38299125163697567, 0.2946086551053659, 0.17676519306321953, 0.17676519306321953, 0.5933834461173096, 0.5933834461173096, 0.4193753706324434, 0.22202225504070533, 0.27136053393863985, 0.09867655779586904, 0.33020808162796156, 0.34382490973633106, 0.22127345676100516, 0.105530417839864, 0.49497387277526683, 0.2268630250219973, 0.17014726876649797, 0.10827553466958961, 0.4077566905042921, 0.4077566905042921, 0.4077566905042921, 0.5932019465083402, 0.5932019465083402, 0.35596938520531407, 0.31325305898067635, 0.2562979573478261, 0.07119387704106281, 0.33033374354605227, 0.4132515253268427, 0.14443742632782852, 0.11100283690009043, 0.541129892771086, 0.24975225820203972, 0.14568881728452318, 0.06243806455050993, 0.3684668521141083, 0.31548204681559217, 0.20263654545463033, 0.11365442968612999, 0.3224893512842679, 0.41602522373468326, 0.14379395317004154, 0.11796688391134476, 0.5327381570761901, 0.2530506246111903, 0.13318453926904752, 0.07991072356142852, 0.5459410742349005, 0.2274754475978752, 0.13648526855872511, 0.09099017903915008, 0.363285879246604, 0.30516013856714735, 0.2470343978876907, 0.08718861101918496, 0.5055107797749558, 0.21664747704640963, 0.1444316513642731, 0.07221582568213655, 0.5914245700433837, 0.5914245700433837, 0.2929199305716463, 0.4393798958574694, 0.14645996528582314, 0.14645996528582314, 0.28703908787691695, 0.28703908787691695, 0.28703908787691695, 0.530792963291227, 0.2196113249010168, 0.1865515555610788, 0.06297098921892955, 0.49971651184215443, 0.27328246741367823, 0.15616140995067326, 0.07027263447780296, 0.472109317774423, 0.24334592248218329, 0.17772455012743724, 0.1075461380258338, 0.35336870230891293, 0.43955619067694046, 0.11721498418051746, 0.08791123813538809, 0.30931259152211277, 0.43738733644923755, 0.17640483735245494, 0.07732814788052819, 0.4425541473332886, 0.3289652495177446, 0.16620366866516842, 0.062449307457030735, 0.5091323344398887, 0.20365293377595545, 0.10182646688797772, 0.10182646688797772, 0.4546459635145814, 0.3154220489845138, 0.14926629525026922, 0.08079551761253104, 0.4243463156606802, 0.3123058981329241, 0.1558823200386172, 0.10771035308223899, 0.3101267340755223, 0.2791140606679701, 0.2791140606679701, 0.12405069363020894, 0.2652681142729986, 0.4700364831854888, 0.18615306264771833, 0.07911505162528029, 0.563884449975923, 0.563884449975923, 0.3446290988518777, 0.29732706567612976, 0.2500250325003819, 0.1081189329731381, 0.4678548953136998, 0.2606530297144201, 0.1968260513886936, 0.0745172111487546, 0.3862832637329028, 0.2664022508502778, 0.2131218006802222, 0.14652123796765276, 0.30425176636377005, 0.27382658972739304, 0.27382658972739304, 0.15212588318188502, 0.5730939757970691, 0.22923759031882762, 0.11461879515941381, 0.11461879515941381, 0.4466748959199663, 0.2966466866033364, 0.14116290603882903, 0.11524894261141115, 0.37843730008584275, 0.37843730008584275, 0.18921865004292138, 0.18921865004292138, 0.5936574373081426, 0.5936574373081426, 0.39865505793548645, 0.3556322318397508, 0.1550903489096279, 0.09020915149105874, 0.2874570920334145, 0.4339819132644546, 0.20804287594636225, 0.07046613540118722, 0.34209878725932863, 0.3609992727432695, 0.15687402951670873, 0.139863592581162, 0.3309493484194593, 0.39394254826066316, 0.19274038757383283, 0.08226723859858719, 0.42657814122527443, 0.3624375897302857, 0.13068888177393953, 0.08025929279873462, 0.5946785371949689, 0.5946785371949689, 0.4159123165848463, 0.3053533463534315, 0.1368825345722279, 0.1421472474403905, 0.6181956991555307, 0.20606523305184357, 0.20606523305184357, 0.38371981577336545, 0.408245596878621, 0.11424667654093729, 0.09406723639104347, 0.36190571351199075, 0.2799647972451249, 0.252651158489503, 0.10242614533358228, 0.26772882495580375, 0.4275669294070299, 0.20778953578659395, 0.09590286267073568, 0.6835449823845715, 0.34177249119228575, 0.3916303314754886, 0.3916303314754886, 0.38312642647115064, 0.32879652355769967, 0.19397787558728424, 0.09417183171664836, 0.36390355475773367, 0.27899272531426245, 0.25473248833041356, 0.09704094793539564, 0.2970164835505723, 0.40741199071096207, 0.17785942820285008, 0.11740474571025573, 0.34193036199294213, 0.33047814891183885, 0.17832731797718035, 0.14724273961418563, 0.2510273773329444, 0.5020547546658888, 0.2510273773329444, 0.388750789907126, 0.3025214095210722, 0.18898605867943466, 0.12000255437059158, 0.38597318764460203, 0.3235703369475706, 0.15716273508882, 0.13405056816399352, 0.38260000292104657, 0.38260000292104657, 0.38260000292104657, 0.4647464952530608, 0.3013714474337254, 0.14962828004165665, 0.0840667721788813, 0.44324915723120634, 0.2643754053219221, 0.19461464207730125, 0.09766506854246919, 0.5283303156691485, 0.24862603090312868, 0.13467243340586135, 0.09323476158867325, 0.26889801370752114, 0.4254819180311082, 0.2074121874024477, 0.0983773220881175, 0.48988349307132, 0.27772342389156035, 0.16059338569856807, 0.07219335687366821, 0.4562576216774425, 0.27146054027177446, 0.18479708140566806, 0.08730069018129835], \"Term\": [\"-\", \"-\", \"-\", \"-\", \"adverse\", \"adverse\", \"adverse\", \"adverse\", \"affections\", \"air\", \"air\", \"air\", \"air\", \"al-mahdi\", \"al-mahdi\", \"al-mahdi\", \"al-mahdi\", \"allegiance\", \"allegiance\", \"also\", \"also\", \"also\", \"also\", \"another\", \"another\", \"another\", \"another\", \"anymore\", \"anymore\", \"anymore\", \"anymore\", \"anyone\", \"anyone\", \"anyone\", \"anyone\", \"anything\", \"anything\", \"anything\", \"anything\", \"anywhere\", \"anywhere\", \"anywhere\", \"anywhere\", \"availability\", \"availability\", \"availability\", \"availability\", \"back\", \"back\", \"back\", \"back\", \"bad\", \"bad\", \"bad\", \"bad\", \"bailout\", \"bailout\", \"bakekuchira\", \"bakekuchira\", \"bakekuchira\", \"become\", \"become\", \"become\", \"become\", \"bee\", \"bee\", \"bee\", \"bee\", \"beeeen\", \"believe\", \"believe\", \"believe\", \"believe\", \"believeth\", \"believeth\", \"believeth\", \"believeth\", \"benefits\", \"benefits\", \"benefits\", \"benefits\", \"berlin\", \"bfd\", \"bfd\", \"biontech\", \"biontech\", \"biontech\", \"biontech\", \"blogger\", \"broad\", \"broad\", \"broad\", \"broad\", \"cancer\", \"cancer\", \"cancer\", \"cancer\", \"cant\", \"cant\", \"cant\", \"cant\", \"care\", \"care\", \"care\", \"care\", \"carlson\", \"carlson\", \"carlson\", \"carlson\", \"carpeting\", \"carpeting\", \"carpeting\", \"carpeting\", \"cases\", \"cases\", \"cases\", \"cases\", \"ccfr\", \"ccfr\", \"ccps\", \"ccps\", \"ccps\", \"ccps\", \"chain\", \"chain\", \"chain\", \"chain\", \"chalupa\", \"chalupa\", \"cheerz\", \"cheeter\", \"christianne\", \"christianne\", \"circumstances\", \"circumstances\", \"circumstances\", \"circumstances\", \"civil\", \"civil\", \"civil\", \"civil\", \"clamor\", \"clamor\", \"clamor\", \"clark\", \"clark\", \"clark\", \"clark\", \"cluster\", \"cluster\", \"cluster\", \"cluster\", \"cnn\", \"cnn\", \"cnn\", \"cnn\", \"collection\", \"collection\", \"collection\", \"collection\", \"common\", \"common\", \"common\", \"common\", \"compensation\", \"compensation\", \"compensation\", \"compensation\", \"contemporary\", \"contemporary\", \"contemporary\", \"contemporary\", \"controversy\", \"controversy\", \"controversy\", \"controversy\", \"convention\", \"convention\", \"convention\", \"convention\", \"conversation\", \"conversation\", \"conversation\", \"conversation\", \"correctlyand\", \"correctlyand\", \"counterpartas\", \"counterpartas\", \"counterpartas\", \"counterpartas\", \"countless\", \"countless\", \"countless\", \"countless\", \"country\", \"country\", \"country\", \"country\", \"coursing\", \"covid\", \"covid\", \"covid\", \"covid\", \"crap\", \"crap\", \"crap\", \"crap\", \"cshield\", \"cshield\", \"cshield\", \"culpable\", \"culpable\", \"culpable\", \"culpable\", \"darryl\", \"darryl\", \"darryl\", \"darryl\", \"dealing\", \"dealing\", \"dealing\", \"dealing\", \"deaths\", \"deaths\", \"deaths\", \"deaths\", \"deny\", \"deny\", \"deny\", \"deny\", \"descended\", \"descended\", \"descended\", \"descended\", \"dinuana\", \"dinuana\", \"dividing\", \"dividing\", \"dividing\", \"dividing\", \"doesnt\", \"doesnt\", \"doesnt\", \"doesnt\", \"donor\", \"donor\", \"donor\", \"donor\", \"dont\", \"dont\", \"dont\", \"dont\", \"dozens\", \"dozens\", \"dozens\", \"dozens\", \"dr\", \"dr\", \"dr\", \"dr\", \"dusk\", \"dusk\", \"dusk\", \"e-meet\", \"e-meet\", \"e-meet\", \"e-meet\", \"either\", \"either\", \"either\", \"either\", \"else\", \"else\", \"else\", \"else\", \"eric\", \"eric\", \"eric\", \"eric\", \"establish\", \"establish\", \"establish\", \"establish\", \"ethical\", \"ethical\", \"ethical\", \"ethical\", \"even\", \"even\", \"even\", \"even\", \"ever\", \"ever\", \"ever\", \"ever\", \"every-form\", \"every-form\", \"every-form\", \"every-form\", \"everyone\", \"everyone\", \"everyone\", \"everyone\", \"experimental\", \"experimental\", \"experimental\", \"experimental\", \"fast\", \"fast\", \"fast\", \"fast\", \"fauci\", \"fauci\", \"fauci\", \"fauci\", \"first\", \"first\", \"first\", \"first\", \"fizzgig\", \"fizzgig\", \"fizzgig\", \"forces\", \"forces\", \"forces\", \"forces\", \"france\", \"france\", \"france\", \"france\", \"gain\", \"gain\", \"gain\", \"gain\", \"genus\", \"ger\", \"ger\", \"ger\", \"ger\", \"get\", \"get\", \"get\", \"get\", \"getting\", \"getting\", \"getting\", \"getting\", \"go\", \"go\", \"go\", \"go\", \"going\", \"going\", \"going\", \"going\", \"good\", \"good\", \"good\", \"good\", \"got\", \"got\", \"got\", \"got\", \"gotten\", \"gotten\", \"gotten\", \"gotten\", \"government\", \"government\", \"government\", \"government\", \"gps\", \"gps\", \"gratefull\", \"gratefull\", \"group\", \"group\", \"group\", \"group\", \"hack\", \"hack\", \"hack\", \"hack\", \"half-page\", \"half-page\", \"hangout\", \"hangout\", \"hangout\", \"hangout\", \"health\", \"health\", \"health\", \"health\", \"heaven\", \"heaven\", \"heaven\", \"heaven\", \"holy\", \"holy\", \"holy\", \"holy\", \"hospital-dodgers\", \"hospital-dodgers\", \"hospital-dodgers\", \"hospital-dodgers\", \"httpsonenationukorgprojectsindia-appealoxygen-india\", \"httpsonenationukorgprojectsindia-appealoxygen-india\", \"httpspinitsxftf\", \"httpspinitsxftf\", \"httpstimeofarticleblogspotcomflu-vaccine-can-treat-coronavirushtmlm\", \"httpstimeofarticleblogspotcomflu-vaccine-can-treat-coronavirushtmlm\", \"httpswwwcbscomarticlenewsverifydo-hospitals-get-paid-more-for-covid--cases-cf-da-\", \"httpswwwcbscomarticlenewsverifydo-hospitals-get-paid-more-for-covid--cases-cf-da-\", \"httpswwwcbscomarticlenewsverifydo-hospitals-get-paid-more-for-covid--cases-cf-da-\", \"httpswwwcbscomarticlenewsverifydo-hospitals-get-paid-more-for-covid--cases-cf-da-\", \"httpswwwcdcgovflupreventvaccine-benefitshtm\", \"httpswwwmedicalnewstodaycomarticlescan-getting-a-flu-shot-help-protect-against-covid-\", \"httpswwwwebmdcomlungnewsget-your-flu-shot-it-might-shield-you-from-severe-covid\", \"httpswwwyoutubecomwatchvpfnqfjoxgv\", \"httpswwwyoutubecomwatchvpfnqfjoxgv\", \"httpswwwyoutubecomwatchvpfnqfjoxgv\", \"httpszakariyyamasjidcoukindia-covid--appeal\", \"httpszakariyyamasjidcoukindia-covid--appeal\", \"httpszakariyyamasjidcoukindia-covid--appeal\", \"im\", \"im\", \"im\", \"im\", \"immediately\", \"immediately\", \"immediately\", \"immediately\", \"immune\", \"immune\", \"immune\", \"immune\", \"induce\", \"induce\", \"induce\", \"induce\", \"irresponsible\", \"irresponsible\", \"irresponsible\", \"irresponsible\", \"israeliteive\", \"ive\", \"ive\", \"ive\", \"ive\", \"jesus\", \"jesus\", \"jesus\", \"jesus\", \"keep\", \"keep\", \"keep\", \"keep\", \"kids\", \"kids\", \"kids\", \"kids\", \"killed\", \"killed\", \"killed\", \"killed\", \"kjv\", \"kjv\", \"kjv\", \"kjv\", \"know\", \"know\", \"know\", \"know\", \"knowledge\", \"knowledge\", \"knowledge\", \"knowledge\", \"korea\", \"korea\", \"korea\", \"korea\", \"lahore\", \"lahore\", \"legislations\", \"legislations\", \"legislations\", \"legislations\", \"leonaza\", \"leonaza\", \"leonaza\", \"leonaza\", \"let\", \"let\", \"let\", \"let\", \"liberty\", \"liberty\", \"liberty\", \"liberty\", \"lie\", \"lie\", \"lie\", \"lie\", \"life\", \"life\", \"life\", \"life\", \"like\", \"like\", \"like\", \"like\", \"lol\", \"lol\", \"lol\", \"lol\", \"long\", \"long\", \"long\", \"long\", \"love\", \"love\", \"love\", \"love\", \"lwalid\", \"lwalid\", \"made\", \"made\", \"made\", \"made\", \"make\", \"make\", \"make\", \"make\", \"manifest\", \"manifest\", \"manifest\", \"manifest\", \"many\", \"many\", \"many\", \"many\", \"marriages\", \"marriages\", \"mask\", \"mask\", \"mask\", \"mask\", \"media\", \"media\", \"media\", \"media\", \"mentioned\", \"mentioned\", \"mentioned\", \"mentioned\", \"millennial\", \"millennial\", \"millennial\", \"momopilotcool\", \"momopilotcool\", \"money\", \"money\", \"money\", \"money\", \"monitored\", \"monitored\", \"monitored\", \"monitored\", \"monkey\", \"monkey\", \"monkey\", \"monkey\", \"mouth\", \"mouth\", \"mouth\", \"mouth\", \"moving\", \"moving\", \"moving\", \"moving\", \"much\", \"much\", \"much\", \"much\", \"murdernya\", \"mwb\", \"mwb\", \"mzungus\", \"neanderthal\", \"neanderthal\", \"neanderthal\", \"neanderthal\", \"need\", \"need\", \"need\", \"need\", \"needs\", \"needs\", \"needs\", \"needs\", \"never\", \"never\", \"never\", \"never\", \"new\", \"new\", \"new\", \"new\", \"news\", \"news\", \"news\", \"news\", \"njamau\", \"normal\", \"normal\", \"normal\", \"normal\", \"nose\", \"nose\", \"nose\", \"nose\", \"occasional\", \"occasional\", \"one\", \"one\", \"one\", \"one\", \"onenope\", \"onenope\", \"onenope\", \"overso\", \"overso\", \"oxycodone\", \"oxycodone\", \"oxycodone\", \"paid\", \"paid\", \"paid\", \"paid\", \"pandemic\", \"pandemic\", \"pandemic\", \"pandemic\", \"parable\", \"parable\", \"parable\", \"parable\", \"paralysis\", \"paralysis\", \"paralysis\", \"paralysis\", \"part\", \"part\", \"part\", \"part\", \"pasha\", \"pasha\", \"pasha\", \"patenting\", \"people\", \"people\", \"people\", \"people\", \"pick\", \"pick\", \"pick\", \"pick\", \"please\", \"please\", \"please\", \"please\", \"president\", \"president\", \"president\", \"president\", \"pro-science\", \"pro-science\", \"pro-science\", \"products\", \"products\", \"products\", \"products\", \"proven\", \"proven\", \"proven\", \"proven\", \"quite\", \"quite\", \"quite\", \"quite\", \"redbull\", \"redbull\", \"remember\", \"remember\", \"remember\", \"remember\", \"repentance\", \"repentance\", \"repentance\", \"repentance\", \"results\", \"results\", \"results\", \"results\", \"riechman\", \"riechman\", \"right\", \"right\", \"right\", \"right\", \"risk\", \"risk\", \"risk\", \"risk\", \"roskell\", \"roskell\", \"roskell\", \"roskell\", \"said\", \"said\", \"said\", \"said\", \"say\", \"say\", \"say\", \"say\", \"saying\", \"saying\", \"saying\", \"saying\", \"science\", \"science\", \"science\", \"science\", \"see\", \"see\", \"see\", \"see\", \"seems\", \"seems\", \"seems\", \"seems\", \"sells\", \"sells\", \"sells\", \"sells\", \"sensationalizing\", \"sensationalizing\", \"severs\", \"severs\", \"severs\", \"severs\", \"shit\", \"shit\", \"shit\", \"shit\", \"side\", \"side\", \"side\", \"side\", \"siiiiimp\", \"siiiiimp\", \"siiiiimp\", \"sikh\", \"sikh\", \"sin\", \"sin\", \"sin\", \"sin\", \"spread\", \"spread\", \"spread\", \"spread\", \"steps\", \"steps\", \"steps\", \"steps\", \"still\", \"still\", \"still\", \"still\", \"stop\", \"stop\", \"stop\", \"stop\", \"stopping\", \"stopping\", \"stopping\", \"stopping\", \"strategies\", \"strategies\", \"strategies\", \"strategies\", \"stupidity\", \"stupidity\", \"stupidity\", \"stupidity\", \"submitted\", \"submitted\", \"submitted\", \"submitted\", \"subspecies\", \"subspecies\", \"surrender\", \"surrender\", \"surrender\", \"surrender\", \"swinging\", \"swinging\", \"swinging\", \"take\", \"take\", \"take\", \"take\", \"taken\", \"taken\", \"taken\", \"taken\", \"taking\", \"taking\", \"taking\", \"taking\", \"tested\", \"tested\", \"tested\", \"tested\", \"testing\", \"testing\", \"testing\", \"testing\", \"thats\", \"thats\", \"thats\", \"thats\", \"thetardysoap\", \"thetardysoap\", \"thetardysoap\", \"thetardysoap\", \"think\", \"think\", \"think\", \"think\", \"time\", \"time\", \"time\", \"time\", \"trade\", \"trade\", \"trade\", \"trade\", \"treatment\", \"treatment\", \"treatment\", \"treatment\", \"trophies\", \"trophies\", \"truly\", \"truly\", \"truly\", \"truly\", \"trump\", \"trump\", \"trump\", \"trump\", \"tuckers\", \"tuckers\", \"tuckers\", \"tuckers\", \"ud-uc\", \"ud-uc\", \"ud-uc\", \"ud-uc\", \"ueuu\", \"ueuu\", \"ueuu\", \"ueuu\", \"uf\", \"uf\", \"uf\", \"uf\", \"ufeufe\", \"ufeufe\", \"ufeufe\", \"ufeufe\", \"ufffufe\", \"ufffufe\", \"us\", \"us\", \"us\", \"us\", \"use\", \"use\", \"use\", \"use\", \"used\", \"used\", \"used\", \"used\", \"vaccinated\", \"vaccinated\", \"vaccinated\", \"vaccinated\", \"vaccine\", \"vaccine\", \"vaccine\", \"vaccine\", \"variantsetc\", \"variantsetc\", \"veritas\", \"veritas\", \"veritas\", \"veritas\", \"viox\", \"viox\", \"viox\", \"virus\", \"virus\", \"virus\", \"virus\", \"voters\", \"voters\", \"voters\", \"voters\", \"wait\", \"wait\", \"wait\", \"wait\", \"waite\", \"waite\", \"waive\", \"waive\", \"want\", \"want\", \"want\", \"want\", \"warp\", \"warp\", \"warp\", \"warp\", \"wear\", \"wear\", \"wear\", \"wear\", \"wearing\", \"wearing\", \"wearing\", \"wearing\", \"weinbach\", \"weinbach\", \"weinbach\", \"well\", \"well\", \"well\", \"well\", \"whole\", \"whole\", \"whole\", \"whole\", \"wig\", \"wig\", \"wig\", \"world\", \"world\", \"world\", \"world\", \"would\", \"would\", \"would\", \"would\", \"written\", \"written\", \"written\", \"written\", \"year\", \"year\", \"year\", \"year\", \"years\", \"years\", \"years\", \"years\", \"youre\", \"youre\", \"youre\", \"youre\"]}, \"R\": 30, \"lambda.step\": 0.01, \"plot.opts\": {\"xlab\": \"PC1\", \"ylab\": \"PC2\"}, \"topic.order\": [1, 3, 4, 2]};\n",
       "\n",
       "function LDAvis_load_lib(url, callback){\n",
       "  var s = document.createElement('script');\n",
       "  s.src = url;\n",
       "  s.async = true;\n",
       "  s.onreadystatechange = s.onload = callback;\n",
       "  s.onerror = function(){console.warn(\"failed to load library \" + url);};\n",
       "  document.getElementsByTagName(\"head\")[0].appendChild(s);\n",
       "}\n",
       "\n",
       "if(typeof(LDAvis) !== \"undefined\"){\n",
       "   // already loaded: just create the visualization\n",
       "   !function(LDAvis){\n",
       "       new LDAvis(\"#\" + \"ldavis_el217601844621281926142175\", ldavis_el217601844621281926142175_data);\n",
       "   }(LDAvis);\n",
       "}else if(typeof define === \"function\" && define.amd){\n",
       "   // require.js is available: use it to load d3/LDAvis\n",
       "   require.config({paths: {d3: \"https://d3js.org/d3.v5\"}});\n",
       "   require([\"d3\"], function(d3){\n",
       "      window.d3 = d3;\n",
       "      LDAvis_load_lib(\"https://cdn.jsdelivr.net/gh/bmabey/pyLDAvis@3.3.1/pyLDAvis/js/ldavis.v3.0.0.js\", function(){\n",
       "        new LDAvis(\"#\" + \"ldavis_el217601844621281926142175\", ldavis_el217601844621281926142175_data);\n",
       "      });\n",
       "    });\n",
       "}else{\n",
       "    // require.js not available: dynamically load d3 & LDAvis\n",
       "    LDAvis_load_lib(\"https://d3js.org/d3.v5.js\", function(){\n",
       "         LDAvis_load_lib(\"https://cdn.jsdelivr.net/gh/bmabey/pyLDAvis@3.3.1/pyLDAvis/js/ldavis.v3.0.0.js\", function(){\n",
       "                 new LDAvis(\"#\" + \"ldavis_el217601844621281926142175\", ldavis_el217601844621281926142175_data);\n",
       "            })\n",
       "         });\n",
       "}\n",
       "</script>"
      ],
      "text/plain": [
       "PreparedData(topic_coordinates=              x         y  topics  cluster       Freq\n",
       "topic                                                \n",
       "0     -0.002270 -0.003162       1        1  40.003321\n",
       "2      0.003756 -0.001449       2        1  33.335810\n",
       "3     -0.002533  0.001833       3        1  17.161488\n",
       "1      0.001047  0.002778       4        1   9.499381, topic_info=            Term          Freq         Total Category  logprob  loglift\n",
       "934       people   9744.000000   9744.000000  Default  30.0000  30.0000\n",
       "1375     vaccine  14951.000000  14951.000000  Default  29.0000  29.0000\n",
       "516          get   6145.000000   6145.000000  Default  28.0000  28.0000\n",
       "363         dont   6546.000000   6546.000000  Default  27.0000  27.0000\n",
       "1498       fauci   2784.000000   2784.000000  Default  26.0000  26.0000\n",
       "...          ...           ...           ...      ...      ...      ...\n",
       "778         make    174.593409   1772.478703   Topic4  -6.0613   0.0363\n",
       "788         many    174.373650   1890.065298   Topic4  -6.0626  -0.0292\n",
       "1285       think    176.845333   2190.715590   Topic4  -6.0485  -0.1628\n",
       "860         need    174.068868   1915.644527   Topic4  -6.0643  -0.0444\n",
       "1372  vaccinated    174.668999   2127.213736   Topic4  -6.0609  -0.1457\n",
       "\n",
       "[397 rows x 6 columns], token_table=      Topic      Freq     Term\n",
       "term                          \n",
       "0         1  0.473268        -\n",
       "0         2  0.280071        -\n",
       "0         3  0.142197        -\n",
       "0         4  0.104594        -\n",
       "24        1  0.507508  adverse\n",
       "...     ...       ...      ...\n",
       "1450      4  0.072193    years\n",
       "1461      1  0.456258    youre\n",
       "1461      2  0.271461    youre\n",
       "1461      3  0.184797    youre\n",
       "1461      4  0.087301    youre\n",
       "\n",
       "[985 rows x 3 columns], R=30, lambda_step=0.01, plot_opts={'xlab': 'PC1', 'ylab': 'PC2'}, topic_order=[1, 3, 4, 2])"
      ]
     },
     "execution_count": 55,
     "metadata": {},
     "output_type": "execute_result"
    }
   ],
   "source": [
    "# load the pre-prepared pyLDAvis data from disk\n",
    "with open(LDAvis_data_filepath, 'rb') as f:\n",
    "    LDAvis_prepared = pickle.load(f)\n",
    "\n",
    "pyLDAvis.save_html(LDAvis_prepared, filepath +'.ldavis_prepared_'+date_time+'_'+ str(num_topics) +'.html')\n",
    "\n",
    "LDAvis_prepared"
   ]
  }
 ],
 "metadata": {
  "kernelspec": {
   "display_name": "Python 3",
   "language": "python",
   "name": "python3"
  },
  "language_info": {
   "codemirror_mode": {
    "name": "ipython",
    "version": 3
   },
   "file_extension": ".py",
   "mimetype": "text/x-python",
   "name": "python",
   "nbconvert_exporter": "python",
   "pygments_lexer": "ipython3",
   "version": "3.7.4"
  }
 },
 "nbformat": 4,
 "nbformat_minor": 2
}
